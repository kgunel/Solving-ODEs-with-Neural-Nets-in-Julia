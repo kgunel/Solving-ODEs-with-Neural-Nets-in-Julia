{
 "cells": [
  {
   "cell_type": "code",
   "execution_count": 1,
   "metadata": {},
   "outputs": [],
   "source": [
    "using BenchmarkTools\n",
    "using AutoGrad"
   ]
  },
  {
   "cell_type": "markdown",
   "metadata": {},
   "source": [
    "# Initialization"
   ]
  },
  {
   "cell_type": "code",
   "execution_count": 2,
   "metadata": {},
   "outputs": [
    {
     "data": {
      "text/plain": [
       "4-element Array{Tuple{Int64,Vararg{Int64,N} where N},1}:\n",
       " (100, 1)\n",
       " (100,)  \n",
       " (1, 100)\n",
       " (1,)    "
      ]
     },
     "execution_count": 2,
     "metadata": {},
     "output_type": "execute_result"
    }
   ],
   "source": [
    "function init_weights(;n_in=1, n_hidden=100, n_out=1)\n",
    "    W1 = randn(n_hidden, n_in) # for left multiply W1*x\n",
    "    b1 = zeros(n_hidden)\n",
    "    W2 = randn(n_out, n_hidden)\n",
    "    b2 = zeros(n_out)\n",
    "    params = [W1, b1, W2, b2]\n",
    "    return params\n",
    "end\n",
    "\n",
    "params = init_weights()\n",
    "sizes = map(size, params)"
   ]
  },
  {
   "cell_type": "code",
   "execution_count": 3,
   "metadata": {},
   "outputs": [
    {
     "data": {
      "text/plain": [
       "1×20001 Array{Float64,2}:\n",
       " -10.0  -9.999  -9.998  -9.997  -9.996  …  9.996  9.997  9.998  9.999  10.0"
      ]
     },
     "execution_count": 3,
     "metadata": {},
     "output_type": "execute_result"
    }
   ],
   "source": [
    "x = reshape([-10:0.001:10;],1,:) # input to NN"
   ]
  },
  {
   "cell_type": "markdown",
   "metadata": {},
   "source": [
    "# Standard version"
   ]
  },
  {
   "cell_type": "code",
   "execution_count": 4,
   "metadata": {},
   "outputs": [
    {
     "data": {
      "text/plain": [
       "predict (generic function with 1 method)"
      ]
     },
     "execution_count": 4,
     "metadata": {},
     "output_type": "execute_result"
    }
   ],
   "source": [
    "function predict(params, x; act=tanh)   \n",
    "    W1, b1, W2, b2 = params\n",
    "    a = act.(W1*x .+ b1)\n",
    "    y = W2*a .+ b2\n",
    "    return y\n",
    "end"
   ]
  },
  {
   "cell_type": "code",
   "execution_count": 5,
   "metadata": {},
   "outputs": [
    {
     "name": "stdout",
     "output_type": "stream",
     "text": [
      "  55.232 ms (58 allocations: 30.83 MiB)\n"
     ]
    },
    {
     "data": {
      "text/plain": [
       "1×20001 Array{Float64,2}:\n",
       " -6.18516  -6.18509  -6.18502  …  6.18495  6.18502  6.18509  6.18516"
      ]
     },
     "execution_count": 5,
     "metadata": {},
     "output_type": "execute_result"
    }
   ],
   "source": [
    "@btime predict(params, x)"
   ]
  },
  {
   "cell_type": "markdown",
   "metadata": {},
   "source": [
    "# Broadcast on x"
   ]
  },
  {
   "cell_type": "markdown",
   "metadata": {},
   "source": [
    "Treat `predict` as a scalar function and broadcast on x. Might be useful for Autograd.jl."
   ]
  },
  {
   "cell_type": "markdown",
   "metadata": {},
   "source": [
    "Wrap the function first. "
   ]
  },
  {
   "cell_type": "code",
   "execution_count": 6,
   "metadata": {},
   "outputs": [
    {
     "data": {
      "text/plain": [
       "(::#6) (generic function with 1 method)"
      ]
     },
     "execution_count": 6,
     "metadata": {},
     "output_type": "execute_result"
    }
   ],
   "source": [
    "predict_wrap = x -> predict(params, x)[1] # assume x is scalar"
   ]
  },
  {
   "cell_type": "markdown",
   "metadata": {},
   "source": [
    "**It is 10 times slower!**"
   ]
  },
  {
   "cell_type": "code",
   "execution_count": 7,
   "metadata": {},
   "outputs": [
    {
     "name": "stdout",
     "output_type": "stream",
     "text": [
      "  386.379 ms (1660118 allocations: 104.38 MiB)\n"
     ]
    },
    {
     "data": {
      "text/plain": [
       "1×20001 RowVector{Float64,Array{Float64,1}}:\n",
       " -6.18516  -6.18509  -6.18502  …  6.18495  6.18502  6.18509  6.18516"
      ]
     },
     "execution_count": 7,
     "metadata": {},
     "output_type": "execute_result"
    }
   ],
   "source": [
    "@btime predict_wrap.(x[:])'"
   ]
  },
  {
   "cell_type": "markdown",
   "metadata": {},
   "source": [
    "# Gradient"
   ]
  },
  {
   "cell_type": "markdown",
   "metadata": {},
   "source": [
    "## Broadcast"
   ]
  },
  {
   "cell_type": "code",
   "execution_count": 8,
   "metadata": {},
   "outputs": [
    {
     "data": {
      "text/plain": [
       "(::gradfun) (generic function with 1 method)"
      ]
     },
     "execution_count": 8,
     "metadata": {},
     "output_type": "execute_result"
    }
   ],
   "source": [
    "predict_grad_v1 = grad(predict_wrap)"
   ]
  },
  {
   "cell_type": "code",
   "execution_count": 9,
   "metadata": {},
   "outputs": [
    {
     "name": "stdout",
     "output_type": "stream",
     "text": [
      "  2.049 s (6960382 allocations: 448.17 MiB)\n"
     ]
    },
    {
     "data": {
      "text/plain": [
       "1×20001 Array{Float64,2}:\n",
       " 0.0702382  0.0702499  0.0702616  …  0.0702616  0.0702499  0.0702382"
      ]
     },
     "execution_count": 9,
     "metadata": {},
     "output_type": "execute_result"
    }
   ],
   "source": [
    "@btime predict_grad_v1.(x)"
   ]
  },
  {
   "cell_type": "markdown",
   "metadata": {},
   "source": [
    "## Diagonal of jacobian"
   ]
  },
  {
   "cell_type": "code",
   "execution_count": 10,
   "metadata": {},
   "outputs": [
    {
     "data": {
      "text/plain": [
       "(::gradfun) (generic function with 1 method)"
      ]
     },
     "execution_count": 10,
     "metadata": {},
     "output_type": "execute_result"
    }
   ],
   "source": [
    "sum_predict(x) = sum(predict(params, x))\n",
    "predict_grad_v2 = grad(sum_predict)"
   ]
  },
  {
   "cell_type": "code",
   "execution_count": 11,
   "metadata": {},
   "outputs": [
    {
     "name": "stdout",
     "output_type": "stream",
     "text": [
      "  116.758 ms (324 allocations: 107.60 MiB)\n"
     ]
    },
    {
     "data": {
      "text/plain": [
       "1×20001 Array{Float64,2}:\n",
       " 0.0702382  0.0702499  0.0702616  …  0.0702616  0.0702499  0.0702382"
      ]
     },
     "execution_count": 11,
     "metadata": {},
     "output_type": "execute_result"
    }
   ],
   "source": [
    "@btime predict_grad_v2(x)"
   ]
  },
  {
   "cell_type": "markdown",
   "metadata": {},
   "source": [
    "# Flatten parameters"
   ]
  },
  {
   "cell_type": "markdown",
   "metadata": {},
   "source": [
    "Flatten all weights into an 1D vector. Useful for Optim.jl."
   ]
  },
  {
   "cell_type": "code",
   "execution_count": 12,
   "metadata": {},
   "outputs": [
    {
     "data": {
      "text/plain": [
       "(301,)"
      ]
     },
     "execution_count": 12,
     "metadata": {},
     "output_type": "execute_result"
    }
   ],
   "source": [
    "params_flat = collect(Iterators.flatten(params))\n",
    "size(params_flat)"
   ]
  },
  {
   "cell_type": "code",
   "execution_count": 13,
   "metadata": {},
   "outputs": [
    {
     "data": {
      "text/plain": [
       "predict_flat (generic function with 1 method)"
      ]
     },
     "execution_count": 13,
     "metadata": {},
     "output_type": "execute_result"
    }
   ],
   "source": [
    "function predict_flat(params_flat, x; act=tanh)\n",
    "    # unflatten\n",
    "    params = []\n",
    "    i1 = 1\n",
    "    for s in sizes # sizes is defined outside of the function\n",
    "        l = reduce(*, s) # size -> length\n",
    "        i2 = i1+l\n",
    "        p = reshape(params_flat[i1:i2-1], s)\n",
    "        push!(params, p)\n",
    "        i1 = i2\n",
    "    end \n",
    "    \n",
    "    # normal NN calculation\n",
    "    \n",
    "    W1, b1, W2, b2 = params\n",
    "    \n",
    "    a = act.(W1*x .+ b1)\n",
    "    y = W2*a .+ b2\n",
    "    return y\n",
    "end"
   ]
  },
  {
   "cell_type": "markdown",
   "metadata": {},
   "source": [
    "**Doesn't seem to affect performance**"
   ]
  },
  {
   "cell_type": "code",
   "execution_count": 14,
   "metadata": {},
   "outputs": [
    {
     "name": "stdout",
     "output_type": "stream",
     "text": [
      "  51.501 ms (88 allocations: 30.83 MiB)\n"
     ]
    },
    {
     "data": {
      "text/plain": [
       "1×20001 Array{Float64,2}:\n",
       " -6.18516  -6.18509  -6.18502  …  6.18495  6.18502  6.18509  6.18516"
      ]
     },
     "execution_count": 14,
     "metadata": {},
     "output_type": "execute_result"
    }
   ],
   "source": [
    "@btime predict_flat(params_flat, x)"
   ]
  }
 ],
 "metadata": {
  "kernelspec": {
   "display_name": "Julia 0.6.1",
   "language": "julia",
   "name": "julia-0.6"
  },
  "language_info": {
   "file_extension": ".jl",
   "mimetype": "application/julia",
   "name": "julia",
   "version": "0.6.1"
  },
  "toc": {
   "nav_menu": {},
   "number_sections": true,
   "sideBar": true,
   "skip_h1_title": false,
   "toc_cell": false,
   "toc_position": {},
   "toc_section_display": "block",
   "toc_window_display": false
  }
 },
 "nbformat": 4,
 "nbformat_minor": 2
}
