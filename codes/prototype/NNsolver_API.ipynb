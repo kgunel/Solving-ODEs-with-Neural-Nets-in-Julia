{
 "cells": [
  {
   "cell_type": "code",
   "execution_count": 1,
   "metadata": {
    "collapsed": true
   },
   "outputs": [],
   "source": [
    "using Optim\n",
    "using AutoGrad"
   ]
  },
  {
   "cell_type": "markdown",
   "metadata": {},
   "source": [
    "# API input"
   ]
  },
  {
   "cell_type": "code",
   "execution_count": 2,
   "metadata": {},
   "outputs": [
    {
     "data": {
      "text/plain": [
       "f! (generic function with 1 method)"
      ]
     },
     "execution_count": 2,
     "metadata": {},
     "output_type": "execute_result"
    }
   ],
   "source": [
    "function f!(t, y, dy)\n",
    "    # for ODE solver\n",
    "    dy[1] = t+998.0*y[1] + 1998.0*y[2]\n",
    "    dy[2] = -999.0*y[1] - 1999.0*y[2]\n",
    "end"
   ]
  },
  {
   "cell_type": "code",
   "execution_count": 3,
   "metadata": {},
   "outputs": [
    {
     "data": {
      "text/plain": [
       "1×21 Array{Float64,2}:\n",
       " 0.0  0.1  0.2  0.3  0.4  0.5  0.6  0.7  …  1.4  1.5  1.6  1.7  1.8  1.9  2.0"
      ]
     },
     "execution_count": 3,
     "metadata": {},
     "output_type": "execute_result"
    }
   ],
   "source": [
    "t = [0:0.1:2;]\n",
    "t = reshape(t, 1, :) # shape = [n_input,n_sample]"
   ]
  },
  {
   "cell_type": "code",
   "execution_count": 4,
   "metadata": {},
   "outputs": [
    {
     "data": {
      "text/plain": [
       "2-element Array{Float64,1}:\n",
       "  2.0\n",
       " -1.0"
      ]
     },
     "execution_count": 4,
     "metadata": {},
     "output_type": "execute_result"
    }
   ],
   "source": [
    "y0_list = [2.0, -1.0]"
   ]
  },
  {
   "cell_type": "markdown",
   "metadata": {},
   "source": [
    "# Preprocessing"
   ]
  },
  {
   "cell_type": "code",
   "execution_count": 5,
   "metadata": {},
   "outputs": [
    {
     "data": {
      "text/plain": [
       "2"
      ]
     },
     "execution_count": 5,
     "metadata": {},
     "output_type": "execute_result"
    }
   ],
   "source": [
    "t0 = t[1]\n",
    "Nvar = length(y0_list)"
   ]
  },
  {
   "cell_type": "code",
   "execution_count": 6,
   "metadata": {},
   "outputs": [
    {
     "data": {
      "text/plain": [
       "f_list (generic function with 1 method)"
      ]
     },
     "execution_count": 6,
     "metadata": {},
     "output_type": "execute_result"
    }
   ],
   "source": [
    "function f_list(t, y)\n",
    "    # For NN\n",
    "    N = length(y)\n",
    "    dy = Vector{}(N) # empty list\n",
    "    f!(t, y, dy)\n",
    "    \n",
    "    return dy\n",
    "end"
   ]
  },
  {
   "cell_type": "markdown",
   "metadata": {},
   "source": [
    "# Building blocks"
   ]
  },
  {
   "cell_type": "code",
   "execution_count": 7,
   "metadata": {},
   "outputs": [
    {
     "data": {
      "text/plain": [
       "sizes_and_length (generic function with 1 method)"
      ]
     },
     "execution_count": 7,
     "metadata": {},
     "output_type": "execute_result"
    }
   ],
   "source": [
    "function init_weights(;n_in=1, n_hidden=10, n_out=1)\n",
    "    W1 = randn(n_hidden, n_in) # for left multiply W1*x\n",
    "    b1 = zeros(n_hidden)\n",
    "    W2 = randn(n_out, n_hidden)\n",
    "    b2 = zeros(n_out)\n",
    "    params = [W1, b1, W2, b2]\n",
    "    return params\n",
    "end\n",
    "\n",
    "function sizes_and_length(params)\n",
    "    sizes = map(size, params)\n",
    "    lengths = map(length, params)\n",
    "    total_l = sum(lengths)\n",
    "\n",
    "    return sizes, lengths, total_l\n",
    "end"
   ]
  },
  {
   "cell_type": "code",
   "execution_count": 8,
   "metadata": {},
   "outputs": [
    {
     "data": {
      "text/plain": [
       "(Tuple{Int64,Vararg{Int64,N} where N}[(10, 1), (10,), (1, 10), (1,)], [10, 10, 10, 1], 31)"
      ]
     },
     "execution_count": 8,
     "metadata": {},
     "output_type": "execute_result"
    }
   ],
   "source": [
    "sizes_and_length(init_weights())"
   ]
  },
  {
   "cell_type": "code",
   "execution_count": 9,
   "metadata": {},
   "outputs": [
    {
     "data": {
      "text/plain": [
       "predict (generic function with 1 method)"
      ]
     },
     "execution_count": 9,
     "metadata": {},
     "output_type": "execute_result"
    }
   ],
   "source": [
    "function predict(params, t, y0, t0; act=tanh)\n",
    "    \n",
    "    W1, b1, W2, b2 = params\n",
    "    \n",
    "    # normal NN calculation\n",
    "    a = act.(W1*t .+ b1)\n",
    "    out = W2*a .+ b2\n",
    "    \n",
    "    # force intial condition\n",
    "    y = y0 .+ (t .- t0) .* out\n",
    "    \n",
    "    return y\n",
    "end"
   ]
  },
  {
   "cell_type": "code",
   "execution_count": 10,
   "metadata": {},
   "outputs": [
    {
     "data": {
      "text/plain": [
       "(::gradfun) (generic function with 1 method)"
      ]
     },
     "execution_count": 10,
     "metadata": {},
     "output_type": "execute_result"
    }
   ],
   "source": [
    "predict_sum(params, t, y0, t0) = sum(predict(params, t, y0, t0))\n",
    "predict_dt = grad(predict_sum, 2)"
   ]
  },
  {
   "cell_type": "markdown",
   "metadata": {},
   "source": [
    "# NN model type\n"
   ]
  },
  {
   "cell_type": "markdown",
   "metadata": {},
   "source": [
    "## Basic info"
   ]
  },
  {
   "cell_type": "code",
   "execution_count": 11,
   "metadata": {},
   "outputs": [],
   "source": [
    "mutable struct NNModel\n",
    "    Nvar     # number of ODE equations\n",
    "    f_list   # f(t, y) on the right hand side\n",
    "    y0_list  # initial conditions\n",
    "    t        # training points\n",
    "    t0       # initial t, i.e. t[1]\n",
    "    n_hidden # number of hidden units\n",
    "\n",
    "    params_list    # a list of NN parameters\n",
    "    sizes   # size of NN parameters, for flatten operation\n",
    "    lengths # length of NN parameters, for flatten operation\n",
    "    total_l  # total length of NN parameters, for flatten operation\n",
    "    all_flattened_params # flattenned parameters, for Optim.jl\n",
    "end"
   ]
  },
  {
   "cell_type": "code",
   "execution_count": 12,
   "metadata": {},
   "outputs": [
    {
     "data": {
      "text/plain": [
       "show (generic function with 1 method)"
      ]
     },
     "execution_count": 12,
     "metadata": {},
     "output_type": "execute_result"
    }
   ],
   "source": [
    "function pre_init_nn(f!, t, y0_list; n_hidden=10)\n",
    "    Nvar = length(y0_list)\n",
    "    t0 = t[1]\n",
    "    \n",
    "    function f_list(t, y)\n",
    "        dy = Vector{}(length(y))\n",
    "        f!(t, y, dy)\n",
    "        return dy\n",
    "    end\n",
    "    \n",
    "    return NNModel(Nvar, f_list, y0_list, t, t0, n_hidden, \n",
    "                   nothing, nothing, nothing, nothing, nothing)\n",
    "end\n",
    "\n",
    "function show(nn::NNModel)\n",
    "    println(\"Neural ODE Solver\")\n",
    "    println(\"Number of equations:       \", nn.Nvar)\n",
    "    println(\"Initial condition y0:      \", nn.y0_list)\n",
    "    println(\"Numnber of hidden units:   \", nn.n_hidden)\n",
    "    println(\"Number of training points: \", length(nn.t))\n",
    "end"
   ]
  },
  {
   "cell_type": "code",
   "execution_count": 13,
   "metadata": {},
   "outputs": [
    {
     "data": {
      "text/plain": [
       "NNModel(2, f_list, [2.0, -1.0], [0.0 0.1 … 1.9 2.0], 0.0, 10, nothing, nothing, nothing, nothing, nothing)"
      ]
     },
     "execution_count": 13,
     "metadata": {},
     "output_type": "execute_result"
    }
   ],
   "source": [
    "nn = pre_init_nn(f!, t, y0_list)"
   ]
  },
  {
   "cell_type": "code",
   "execution_count": 14,
   "metadata": {},
   "outputs": [
    {
     "name": "stdout",
     "output_type": "stream",
     "text": [
      "Neural ODE Solver\n",
      "Number of equations:       2\n",
      "Initial condition y0:      [2.0, -1.0]\n",
      "Numnber of hidden units:   10\n",
      "Number of training points: 21\n"
     ]
    }
   ],
   "source": [
    "show(nn)"
   ]
  },
  {
   "cell_type": "markdown",
   "metadata": {},
   "source": [
    "## Add weights information"
   ]
  },
  {
   "cell_type": "code",
   "execution_count": 15,
   "metadata": {},
   "outputs": [
    {
     "data": {
      "text/plain": [
       "(::#9) (generic function with 1 method)"
      ]
     },
     "execution_count": 15,
     "metadata": {},
     "output_type": "execute_result"
    }
   ],
   "source": [
    "flat_opt = p->collect(Iterators.flatten(p)) # flatten operation for a single NN params"
   ]
  },
  {
   "cell_type": "code",
   "execution_count": 16,
   "metadata": {},
   "outputs": [
    {
     "data": {
      "text/plain": [
       "reset_weights! (generic function with 1 method)"
      ]
     },
     "execution_count": 16,
     "metadata": {},
     "output_type": "execute_result"
    }
   ],
   "source": [
    "function reset_weights!(nn::NNModel)\n",
    "    # update weights\n",
    "    nn.params_list = [init_weights(n_hidden = nn.n_hidden) \n",
    "                      for _ in 1:nn.Nvar]\n",
    "    nn.sizes, nn.lengths, nn.total_l = sizes_and_length(nn.params_list[1])\n",
    "    \n",
    "    # update flattened weights\n",
    "    nn.all_flattened_params = vcat(map(flat_opt, nn.params_list)...)\n",
    "    return nothing\n",
    "end"
   ]
  },
  {
   "cell_type": "code",
   "execution_count": 17,
   "metadata": {},
   "outputs": [],
   "source": [
    "reset_weights!(nn)"
   ]
  },
  {
   "cell_type": "code",
   "execution_count": 18,
   "metadata": {},
   "outputs": [
    {
     "data": {
      "text/plain": [
       "(62,)"
      ]
     },
     "execution_count": 18,
     "metadata": {},
     "output_type": "execute_result"
    }
   ],
   "source": [
    "size(nn.all_flattened_params)"
   ]
  },
  {
   "cell_type": "markdown",
   "metadata": {},
   "source": [
    "## Put together"
   ]
  },
  {
   "cell_type": "code",
   "execution_count": 19,
   "metadata": {},
   "outputs": [
    {
     "data": {
      "text/plain": [
       "init_nn (generic function with 1 method)"
      ]
     },
     "execution_count": 19,
     "metadata": {},
     "output_type": "execute_result"
    }
   ],
   "source": [
    "function init_nn(f!, t, y0_list; n_hidden=10)\n",
    "    nn = pre_init_nn(f!, t, y0_list)\n",
    "    reset_weights!(nn)\n",
    "    return nn\n",
    "end"
   ]
  },
  {
   "cell_type": "code",
   "execution_count": 20,
   "metadata": {},
   "outputs": [
    {
     "name": "stdout",
     "output_type": "stream",
     "text": [
      "Neural ODE Solver\n",
      "Number of equations:       2\n",
      "Initial condition y0:      [2.0, -1.0]\n",
      "Numnber of hidden units:   10\n",
      "Number of training points: 21\n"
     ]
    }
   ],
   "source": [
    "nn = init_nn(f!, t, y0_list);\n",
    "show(nn)"
   ]
  },
  {
   "cell_type": "code",
   "execution_count": 21,
   "metadata": {},
   "outputs": [
    {
     "data": {
      "text/plain": [
       "(62,)"
      ]
     },
     "execution_count": 21,
     "metadata": {},
     "output_type": "execute_result"
    }
   ],
   "source": [
    "size(nn.all_flattened_params)"
   ]
  },
  {
   "cell_type": "markdown",
   "metadata": {},
   "source": [
    "# Unflatten functions (not operate on NN directly)"
   ]
  },
  {
   "cell_type": "markdown",
   "metadata": {},
   "source": [
    "## Single NN"
   ]
  },
  {
   "cell_type": "code",
   "execution_count": 22,
   "metadata": {},
   "outputs": [
    {
     "data": {
      "text/plain": [
       "unflatten (generic function with 1 method)"
      ]
     },
     "execution_count": 22,
     "metadata": {},
     "output_type": "execute_result"
    }
   ],
   "source": [
    "function unflatten(params_flat, sizes, lengths)\n",
    "    params = []\n",
    "    i1 = 1\n",
    "    for j in 1:length(sizes)\n",
    "        s = sizes[j]\n",
    "        l = lengths[j]\n",
    "        i2 = i1+l\n",
    "        #p = reshape(params_flat[i1:i2-1], s)\n",
    "        p = reshape(view(params_flat,i1:i2-1), s)\n",
    "        push!(params, p)\n",
    "        i1 = i2\n",
    "    end \n",
    "    return params\n",
    "end"
   ]
  },
  {
   "cell_type": "code",
   "execution_count": 23,
   "metadata": {},
   "outputs": [
    {
     "data": {
      "text/plain": [
       "(Tuple{Int64,Vararg{Int64,N} where N}[(10, 1), (10,), (1, 10), (1,)], [10, 10, 10, 1], 31)"
      ]
     },
     "execution_count": 23,
     "metadata": {},
     "output_type": "execute_result"
    }
   ],
   "source": [
    "params_test = init_weights()\n",
    "sizes_test, lengths_test = sizes_and_length(params_test)"
   ]
  },
  {
   "cell_type": "code",
   "execution_count": 24,
   "metadata": {},
   "outputs": [],
   "source": [
    "params_flat_test = collect(Iterators.flatten(params_test));"
   ]
  },
  {
   "cell_type": "code",
   "execution_count": 25,
   "metadata": {},
   "outputs": [
    {
     "data": {
      "text/plain": [
       "true"
      ]
     },
     "execution_count": 25,
     "metadata": {},
     "output_type": "execute_result"
    }
   ],
   "source": [
    "unflatten(params_flat_test, sizes_test, lengths_test) == params_test"
   ]
  },
  {
   "cell_type": "markdown",
   "metadata": {},
   "source": [
    "## Multilple NN"
   ]
  },
  {
   "cell_type": "code",
   "execution_count": 26,
   "metadata": {},
   "outputs": [
    {
     "data": {
      "text/plain": [
       "unflatten_all (generic function with 1 method)"
      ]
     },
     "execution_count": 26,
     "metadata": {},
     "output_type": "execute_result"
    }
   ],
   "source": [
    "function unflatten_all(all_flattened_params, Nvar, total_l, sizes, lengths)\n",
    "    params_list = []\n",
    "    all_params_reshape = reshape(all_flattened_params, total_l, Nvar)\n",
    "    for i in 1:Nvar\n",
    "        params = unflatten(all_params_reshape[:,i], sizes, lengths)\n",
    "        push!(params_list, params)\n",
    "    end\n",
    "    return params_list\n",
    "end"
   ]
  },
  {
   "cell_type": "code",
   "execution_count": 27,
   "metadata": {},
   "outputs": [
    {
     "data": {
      "text/plain": [
       "2-element Array{Any,1}:\n",
       " Any[[0.575811; -0.0853388; … ; 0.0205407; -0.558314], [0.0, 0.0, 0.0, 0.0, 0.0, 0.0, 0.0, 0.0, 0.0, 0.0], [2.10233 -2.17488 … 1.07334 0.0343746], [0.0]]\n",
       " Any[[1.52646; -0.174612; … ; -0.284359; 0.442893], [0.0, 0.0, 0.0, 0.0, 0.0, 0.0, 0.0, 0.0, 0.0, 0.0], [-1.65078 -1.48589 … -0.891213 -1.14649], [0.0]] "
      ]
     },
     "execution_count": 27,
     "metadata": {},
     "output_type": "execute_result"
    }
   ],
   "source": [
    "params_recover = unflatten_all(nn.all_flattened_params, nn.Nvar, nn.total_l, \n",
    "                               nn.sizes, nn.lengths)"
   ]
  },
  {
   "cell_type": "code",
   "execution_count": 28,
   "metadata": {},
   "outputs": [
    {
     "data": {
      "text/plain": [
       "true"
      ]
     },
     "execution_count": 28,
     "metadata": {},
     "output_type": "execute_result"
    }
   ],
   "source": [
    "params_recover == nn.params_list"
   ]
  },
  {
   "cell_type": "markdown",
   "metadata": {},
   "source": [
    "# Loss function"
   ]
  },
  {
   "cell_type": "code",
   "execution_count": 29,
   "metadata": {},
   "outputs": [
    {
     "data": {
      "text/plain": [
       "loss_func (generic function with 1 method)"
      ]
     },
     "execution_count": 29,
     "metadata": {},
     "output_type": "execute_result"
    }
   ],
   "source": [
    "function loss_func(params_list, nn::NNModel)\n",
    "    # need to expose params_list to optim.jl\n",
    "    \n",
    "    # shortcut\n",
    "    Nvar = nn.Nvar\n",
    "    f_list = nn.f_list\n",
    "    t = nn.t\n",
    "    \n",
    "    y_pred_list = []\n",
    "    dydt_pred_list = []\n",
    "    \n",
    "    for i = 1:Nvar\n",
    "        params = params_list[i]\n",
    "        y0 = y0_list[i]\n",
    "        y_pred =  predict(params, t, y0, t0)\n",
    "        dydt_pred = predict_dt(params, t, y0, t0)\n",
    "        \n",
    "        push!(y_pred_list, y_pred)\n",
    "        push!(dydt_pred_list, dydt_pred)\n",
    "    end\n",
    "        \n",
    "    f_pred_list = f_list(t, y_pred_list)\n",
    "    \n",
    "    loss_total = 0.0\n",
    "    for i = 1:Nvar\n",
    "        f_pred = f_pred_list[i]\n",
    "        dydt_pred = dydt_pred_list[i]\n",
    "        loss = mean(abs2, dydt_pred - f_pred)\n",
    "        loss_total += loss\n",
    "    end\n",
    "    \n",
    "    return loss_total\n",
    "\n",
    "end"
   ]
  },
  {
   "cell_type": "code",
   "execution_count": 30,
   "metadata": {},
   "outputs": [
    {
     "data": {
      "text/plain": [
       "2.1932848766712155e6"
      ]
     },
     "execution_count": 30,
     "metadata": {},
     "output_type": "execute_result"
    }
   ],
   "source": [
    "# reset_weights!(nn)\n",
    "loss_func(nn.params_list, nn)"
   ]
  },
  {
   "cell_type": "markdown",
   "metadata": {},
   "source": [
    "# Training"
   ]
  },
  {
   "cell_type": "code",
   "execution_count": 31,
   "metadata": {},
   "outputs": [
    {
     "data": {
      "text/plain": [
       "get_unflat (generic function with 1 method)"
      ]
     },
     "execution_count": 31,
     "metadata": {},
     "output_type": "execute_result"
    }
   ],
   "source": [
    "function get_unflat(all_flattened_params, nn::NNModel)\n",
    "    # don't modify nn itself\n",
    "    return unflatten_all(all_flattened_params, \n",
    "        nn.Nvar, nn.total_l, nn.sizes, nn.lengths)\n",
    "end"
   ]
  },
  {
   "cell_type": "code",
   "execution_count": 32,
   "metadata": {},
   "outputs": [
    {
     "data": {
      "text/plain": [
       "true"
      ]
     },
     "execution_count": 32,
     "metadata": {},
     "output_type": "execute_result"
    }
   ],
   "source": [
    "get_unflat(nn.all_flattened_params, nn) == nn.params_list"
   ]
  },
  {
   "cell_type": "code",
   "execution_count": 33,
   "metadata": {},
   "outputs": [
    {
     "data": {
      "text/plain": [
       "train! (generic function with 1 method)"
      ]
     },
     "execution_count": 33,
     "metadata": {},
     "output_type": "execute_result"
    }
   ],
   "source": [
    "function train!(nn::NNModel; method=BFGS(), iterations=500, show_every=50)\n",
    "\n",
    "    # for optim.jl\n",
    "    function loss_wrap(all_flattened_params)\n",
    "        params_list = get_unflat(all_flattened_params, nn)\n",
    "        return loss_func(params_list, nn)\n",
    "    end\n",
    "    \n",
    "    # configuration optimazation options\n",
    "    od = OnceDifferentiable(loss_wrap, nn.all_flattened_params; autodiff =:forward);\n",
    "    option = Optim.Options(iterations=iterations, show_trace=true, show_every=show_every)\n",
    "    \n",
    "    # training\n",
    "    opt = optimize(od, nn.all_flattened_params, method, option)\n",
    "    \n",
    "    # update weights\n",
    "    nn.all_flattened_params = opt.minimizer # flattened weights\n",
    "    nn.params_list = get_unflat(opt.minimizer, nn) # original weights\n",
    "    \n",
    "end"
   ]
  },
  {
   "cell_type": "code",
   "execution_count": 34,
   "metadata": {},
   "outputs": [
    {
     "name": "stderr",
     "output_type": "stream",
     "text": [
      "\u001b[1m\u001b[33mWARNING: \u001b[39m\u001b[22m\u001b[33m`alphainit` is deprecated, use `InitialHagerZhang()` instead\u001b[39m\n"
     ]
    },
    {
     "name": "stdout",
     "output_type": "stream",
     "text": [
      "Iter     Function value   Gradient norm \n",
      "     0     6.154519e+05     8.318763e+06\n",
      "    50     4.128740e+00     5.727815e+02\n",
      "   100     6.610481e-01     4.820127e+02\n",
      "   150     2.147895e-01     3.749863e+01\n",
      "   200     2.814772e-02     1.009211e+02\n",
      "   250     4.915779e-03     1.420258e+01\n",
      "   300     2.795057e-03     2.081087e+01\n",
      "   350     1.886847e-03     1.677503e+01\n",
      "   400     8.645246e-04     2.625430e+00\n",
      "   450     3.416373e-04     2.016820e+00\n",
      "   500     1.870863e-04     1.338760e+00\n",
      " 22.623613 seconds (30.86 M allocations: 4.998 GiB, 3.36% gc time)\n"
     ]
    },
    {
     "data": {
      "text/plain": [
       "2-element Array{Any,1}:\n",
       " Any[[-0.462421; -0.0663361; … ; -0.727093; 1.00037], [-0.0254224, -1.71344, -0.18786, 1.22524, 0.0269862, 0.408243, 0.333453, -0.0153271, 0.0902273, -1.66902], [-2.14424 2.48715 … 0.334147 0.133116], [-1.48216]]\n",
       " Any[[-1.55256; -0.377941; … ; 1.03184; -1.23321], [0.676434, 0.0066661, -0.68498, -0.224742, -0.297432, -0.665359, 0.639513, -1.05162, -1.16149, -2.63728], [-1.74321 1.28149 … 0.170286 0.603559], [-0.361049]]   "
      ]
     },
     "execution_count": 34,
     "metadata": {},
     "output_type": "execute_result"
    }
   ],
   "source": [
    "reset_weights!(nn)\n",
    "@time train!(nn)"
   ]
  },
  {
   "cell_type": "markdown",
   "metadata": {},
   "source": [
    "# Prediction"
   ]
  },
  {
   "cell_type": "code",
   "execution_count": 35,
   "metadata": {},
   "outputs": [
    {
     "data": {
      "text/plain": [
       "predict (generic function with 2 methods)"
      ]
     },
     "execution_count": 35,
     "metadata": {},
     "output_type": "execute_result"
    }
   ],
   "source": [
    "function predict(nn::NNModel; t=nothing)\n",
    "    \n",
    "    if t == nothing \n",
    "        t = nn.t # predict on training points by default\n",
    "    end\n",
    "    \n",
    "    # shortcut\n",
    "    Nvar = nn.Nvar\n",
    "    f_list = nn.f_list\n",
    "    params_list = nn.params_list\n",
    "    \n",
    "    y_pred_list = []\n",
    "    dydt_pred_list = []\n",
    "    \n",
    "    for i = 1:Nvar\n",
    "        params = params_list[i]\n",
    "        y0 = y0_list[i]\n",
    "        y_pred =  predict(params, t, y0, t0)\n",
    "        dydt_pred = predict_dt(params, t, y0, t0)\n",
    "        \n",
    "        push!(y_pred_list, y_pred)\n",
    "        push!(dydt_pred_list, dydt_pred)\n",
    "    end\n",
    "    \n",
    "    return y_pred_list, dydt_pred_list\n",
    "end"
   ]
  },
  {
   "cell_type": "code",
   "execution_count": 36,
   "metadata": {},
   "outputs": [
    {
     "data": {
      "text/plain": [
       "(Any[[2.0 1.81951 … 2.40151 2.54], [-1.0 -0.909705 … -1.19982 -1.26902]], Any[[-2.00303 -1.61563 … 1.36681 1.40126], [1.00105 0.808584 … -0.683033 -0.699888]])"
      ]
     },
     "execution_count": 36,
     "metadata": {},
     "output_type": "execute_result"
    }
   ],
   "source": [
    "y_pred_list, dydt_pred_list = predict(nn)"
   ]
  },
  {
   "cell_type": "code",
   "execution_count": 37,
   "metadata": {
    "collapsed": true
   },
   "outputs": [],
   "source": [
    "using Plots\n",
    "default(size = (300, 200)) # plot size"
   ]
  },
  {
   "cell_type": "code",
   "execution_count": 38,
   "metadata": {},
   "outputs": [
    {
     "data": {
      "text/html": [
       "<?xml version=\"1.0\" encoding=\"utf-8\"?>\n",
       "<svg xmlns=\"http://www.w3.org/2000/svg\" xmlns:xlink=\"http://www.w3.org/1999/xlink\" width=\"300\" height=\"200\" viewBox=\"0 0 300 200\">\n",
       "<defs>\n",
       "  <clipPath id=\"clip00\">\n",
       "    <rect x=\"0\" y=\"0\" width=\"300\" height=\"200\"/>\n",
       "  </clipPath>\n",
       "</defs>\n",
       "<polygon clip-path=\"url(#clip0700)\" points=\"\n",
       "0,200 300,200 300,0 0,0 \n",
       "  \" fill=\"#ffffff\" fill-opacity=\"1\"/>\n",
       "<defs>\n",
       "  <clipPath id=\"clip01\">\n",
       "    <rect x=\"60\" y=\"0\" width=\"211\" height=\"200\"/>\n",
       "  </clipPath>\n",
       "</defs>\n",
       "<polygon clip-path=\"url(#clip0700)\" points=\"\n",
       "38.8117,175.813 280.315,175.813 280.315,11.811 38.8117,11.811 \n",
       "  \" fill=\"#ffffff\" fill-opacity=\"1\"/>\n",
       "<defs>\n",
       "  <clipPath id=\"clip02\">\n",
       "    <rect x=\"38\" y=\"11\" width=\"243\" height=\"165\"/>\n",
       "  </clipPath>\n",
       "</defs>\n",
       "<polyline clip-path=\"url(#clip0702)\" style=\"stroke:#000000; stroke-width:0.5; stroke-opacity:0.1; fill:none\" points=\"\n",
       "  38.8117,173.353 38.8117,14.2711 \n",
       "  \"/>\n",
       "<polyline clip-path=\"url(#clip0702)\" style=\"stroke:#000000; stroke-width:0.5; stroke-opacity:0.1; fill:none\" points=\"\n",
       "  99.1875,173.353 99.1875,14.2711 \n",
       "  \"/>\n",
       "<polyline clip-path=\"url(#clip0702)\" style=\"stroke:#000000; stroke-width:0.5; stroke-opacity:0.1; fill:none\" points=\"\n",
       "  159.563,173.353 159.563,14.2711 \n",
       "  \"/>\n",
       "<polyline clip-path=\"url(#clip0702)\" style=\"stroke:#000000; stroke-width:0.5; stroke-opacity:0.1; fill:none\" points=\"\n",
       "  219.939,173.353 219.939,14.2711 \n",
       "  \"/>\n",
       "<polyline clip-path=\"url(#clip0702)\" style=\"stroke:#000000; stroke-width:0.5; stroke-opacity:0.1; fill:none\" points=\"\n",
       "  280.315,173.353 280.315,14.2711 \n",
       "  \"/>\n",
       "<polyline clip-path=\"url(#clip0702)\" style=\"stroke:#000000; stroke-width:0.5; stroke-opacity:0.1; fill:none\" points=\"\n",
       "  42.4343,159.321 276.692,159.321 \n",
       "  \"/>\n",
       "<polyline clip-path=\"url(#clip0702)\" style=\"stroke:#000000; stroke-width:0.5; stroke-opacity:0.1; fill:none\" points=\"\n",
       "  42.4343,123.862 276.692,123.862 \n",
       "  \"/>\n",
       "<polyline clip-path=\"url(#clip0702)\" style=\"stroke:#000000; stroke-width:0.5; stroke-opacity:0.1; fill:none\" points=\"\n",
       "  42.4343,88.4023 276.692,88.4023 \n",
       "  \"/>\n",
       "<polyline clip-path=\"url(#clip0702)\" style=\"stroke:#000000; stroke-width:0.5; stroke-opacity:0.1; fill:none\" points=\"\n",
       "  42.4343,52.9431 276.692,52.9431 \n",
       "  \"/>\n",
       "<polyline clip-path=\"url(#clip0702)\" style=\"stroke:#000000; stroke-width:0.5; stroke-opacity:0.1; fill:none\" points=\"\n",
       "  42.4343,17.4838 276.692,17.4838 \n",
       "  \"/>\n",
       "<polyline clip-path=\"url(#clip0700)\" style=\"stroke:#000000; stroke-width:1; stroke-opacity:1; fill:none\" points=\"\n",
       "  38.8117,175.813 280.315,175.813 \n",
       "  \"/>\n",
       "<polyline clip-path=\"url(#clip0700)\" style=\"stroke:#000000; stroke-width:1; stroke-opacity:1; fill:none\" points=\"\n",
       "  38.8117,175.813 38.8117,11.811 \n",
       "  \"/>\n",
       "<polyline clip-path=\"url(#clip0700)\" style=\"stroke:#000000; stroke-width:1; stroke-opacity:1; fill:none\" points=\"\n",
       "  38.8117,175.813 38.8117,173.353 \n",
       "  \"/>\n",
       "<polyline clip-path=\"url(#clip0700)\" style=\"stroke:#000000; stroke-width:1; stroke-opacity:1; fill:none\" points=\"\n",
       "  99.1875,175.813 99.1875,173.353 \n",
       "  \"/>\n",
       "<polyline clip-path=\"url(#clip0700)\" style=\"stroke:#000000; stroke-width:1; stroke-opacity:1; fill:none\" points=\"\n",
       "  159.563,175.813 159.563,173.353 \n",
       "  \"/>\n",
       "<polyline clip-path=\"url(#clip0700)\" style=\"stroke:#000000; stroke-width:1; stroke-opacity:1; fill:none\" points=\"\n",
       "  219.939,175.813 219.939,173.353 \n",
       "  \"/>\n",
       "<polyline clip-path=\"url(#clip0700)\" style=\"stroke:#000000; stroke-width:1; stroke-opacity:1; fill:none\" points=\"\n",
       "  280.315,175.813 280.315,173.353 \n",
       "  \"/>\n",
       "<polyline clip-path=\"url(#clip0700)\" style=\"stroke:#000000; stroke-width:1; stroke-opacity:1; fill:none\" points=\"\n",
       "  38.8117,159.321 42.4343,159.321 \n",
       "  \"/>\n",
       "<polyline clip-path=\"url(#clip0700)\" style=\"stroke:#000000; stroke-width:1; stroke-opacity:1; fill:none\" points=\"\n",
       "  38.8117,123.862 42.4343,123.862 \n",
       "  \"/>\n",
       "<polyline clip-path=\"url(#clip0700)\" style=\"stroke:#000000; stroke-width:1; stroke-opacity:1; fill:none\" points=\"\n",
       "  38.8117,88.4023 42.4343,88.4023 \n",
       "  \"/>\n",
       "<polyline clip-path=\"url(#clip0700)\" style=\"stroke:#000000; stroke-width:1; stroke-opacity:1; fill:none\" points=\"\n",
       "  38.8117,52.9431 42.4343,52.9431 \n",
       "  \"/>\n",
       "<polyline clip-path=\"url(#clip0700)\" style=\"stroke:#000000; stroke-width:1; stroke-opacity:1; fill:none\" points=\"\n",
       "  38.8117,17.4838 42.4343,17.4838 \n",
       "  \"/>\n",
       "<g clip-path=\"url(#clip0700)\">\n",
       "<text style=\"fill:#000000; fill-opacity:1; font-family:Arial,Helvetica Neue,Helvetica,sans-serif; font-size:12; text-anchor:middle;\" transform=\"rotate(0, 38.8117, 188.113)\" x=\"38.8117\" y=\"188.113\">0.0</text>\n",
       "</g>\n",
       "<g clip-path=\"url(#clip0700)\">\n",
       "<text style=\"fill:#000000; fill-opacity:1; font-family:Arial,Helvetica Neue,Helvetica,sans-serif; font-size:12; text-anchor:middle;\" transform=\"rotate(0, 99.1875, 188.113)\" x=\"99.1875\" y=\"188.113\">0.5</text>\n",
       "</g>\n",
       "<g clip-path=\"url(#clip0700)\">\n",
       "<text style=\"fill:#000000; fill-opacity:1; font-family:Arial,Helvetica Neue,Helvetica,sans-serif; font-size:12; text-anchor:middle;\" transform=\"rotate(0, 159.563, 188.113)\" x=\"159.563\" y=\"188.113\">1.0</text>\n",
       "</g>\n",
       "<g clip-path=\"url(#clip0700)\">\n",
       "<text style=\"fill:#000000; fill-opacity:1; font-family:Arial,Helvetica Neue,Helvetica,sans-serif; font-size:12; text-anchor:middle;\" transform=\"rotate(0, 219.939, 188.113)\" x=\"219.939\" y=\"188.113\">1.5</text>\n",
       "</g>\n",
       "<g clip-path=\"url(#clip0700)\">\n",
       "<text style=\"fill:#000000; fill-opacity:1; font-family:Arial,Helvetica Neue,Helvetica,sans-serif; font-size:12; text-anchor:middle;\" transform=\"rotate(0, 280.315, 188.113)\" x=\"280.315\" y=\"188.113\">2.0</text>\n",
       "</g>\n",
       "<g clip-path=\"url(#clip0700)\">\n",
       "<text style=\"fill:#000000; fill-opacity:1; font-family:Arial,Helvetica Neue,Helvetica,sans-serif; font-size:12; text-anchor:end;\" transform=\"rotate(0, 35.8117, 163.821)\" x=\"35.8117\" y=\"163.821\">1.50</text>\n",
       "</g>\n",
       "<g clip-path=\"url(#clip0700)\">\n",
       "<text style=\"fill:#000000; fill-opacity:1; font-family:Arial,Helvetica Neue,Helvetica,sans-serif; font-size:12; text-anchor:end;\" transform=\"rotate(0, 35.8117, 128.362)\" x=\"35.8117\" y=\"128.362\">1.75</text>\n",
       "</g>\n",
       "<g clip-path=\"url(#clip0700)\">\n",
       "<text style=\"fill:#000000; fill-opacity:1; font-family:Arial,Helvetica Neue,Helvetica,sans-serif; font-size:12; text-anchor:end;\" transform=\"rotate(0, 35.8117, 92.9023)\" x=\"35.8117\" y=\"92.9023\">2.00</text>\n",
       "</g>\n",
       "<g clip-path=\"url(#clip0700)\">\n",
       "<text style=\"fill:#000000; fill-opacity:1; font-family:Arial,Helvetica Neue,Helvetica,sans-serif; font-size:12; text-anchor:end;\" transform=\"rotate(0, 35.8117, 57.4431)\" x=\"35.8117\" y=\"57.4431\">2.25</text>\n",
       "</g>\n",
       "<g clip-path=\"url(#clip0700)\">\n",
       "<text style=\"fill:#000000; fill-opacity:1; font-family:Arial,Helvetica Neue,Helvetica,sans-serif; font-size:12; text-anchor:end;\" transform=\"rotate(0, 35.8117, 21.9838)\" x=\"35.8117\" y=\"21.9838\">2.50</text>\n",
       "</g>\n",
       "<polyline clip-path=\"url(#clip0702)\" style=\"stroke:#009af9; stroke-width:1; stroke-opacity:1; fill:none\" points=\"\n",
       "  38.8117,88.4023 50.8869,114.003 \n",
       "  \"/>\n",
       "<polyline clip-path=\"url(#clip0702)\" style=\"stroke:#009af9; stroke-width:1; stroke-opacity:1; fill:none\" points=\"\n",
       "  50.8869,114.003 62.9621,134.451 \n",
       "  \"/>\n",
       "<polyline clip-path=\"url(#clip0702)\" style=\"stroke:#009af9; stroke-width:1; stroke-opacity:1; fill:none\" points=\"\n",
       "  62.9621,134.451 75.0372,150.317 \n",
       "  \"/>\n",
       "<polyline clip-path=\"url(#clip0702)\" style=\"stroke:#009af9; stroke-width:1; stroke-opacity:1; fill:none\" points=\"\n",
       "  75.0372,150.317 87.1124,162.046 \n",
       "  \"/>\n",
       "<polyline clip-path=\"url(#clip0702)\" style=\"stroke:#009af9; stroke-width:1; stroke-opacity:1; fill:none\" points=\"\n",
       "  87.1124,162.046 99.1875,169.997 \n",
       "  \"/>\n",
       "<polyline clip-path=\"url(#clip0702)\" style=\"stroke:#009af9; stroke-width:1; stroke-opacity:1; fill:none\" points=\"\n",
       "  99.1875,169.997 111.263,174.489 \n",
       "  \"/>\n",
       "<polyline clip-path=\"url(#clip0702)\" style=\"stroke:#009af9; stroke-width:1; stroke-opacity:1; fill:none\" points=\"\n",
       "  111.263,174.489 123.338,175.813 \n",
       "  \"/>\n",
       "<polyline clip-path=\"url(#clip0702)\" style=\"stroke:#009af9; stroke-width:1; stroke-opacity:1; fill:none\" points=\"\n",
       "  123.338,175.813 135.413,174.25 \n",
       "  \"/>\n",
       "<polyline clip-path=\"url(#clip0702)\" style=\"stroke:#009af9; stroke-width:1; stroke-opacity:1; fill:none\" points=\"\n",
       "  135.413,174.25 147.488,170.067 \n",
       "  \"/>\n",
       "<polyline clip-path=\"url(#clip0702)\" style=\"stroke:#009af9; stroke-width:1; stroke-opacity:1; fill:none\" points=\"\n",
       "  147.488,170.067 159.563,163.517 \n",
       "  \"/>\n",
       "<polyline clip-path=\"url(#clip0702)\" style=\"stroke:#009af9; stroke-width:1; stroke-opacity:1; fill:none\" points=\"\n",
       "  159.563,163.517 171.639,154.834 \n",
       "  \"/>\n",
       "<polyline clip-path=\"url(#clip0702)\" style=\"stroke:#009af9; stroke-width:1; stroke-opacity:1; fill:none\" points=\"\n",
       "  171.639,154.834 183.714,144.234 \n",
       "  \"/>\n",
       "<polyline clip-path=\"url(#clip0702)\" style=\"stroke:#009af9; stroke-width:1; stroke-opacity:1; fill:none\" points=\"\n",
       "  183.714,144.234 195.789,131.911 \n",
       "  \"/>\n",
       "<polyline clip-path=\"url(#clip0702)\" style=\"stroke:#009af9; stroke-width:1; stroke-opacity:1; fill:none\" points=\"\n",
       "  195.789,131.911 207.864,118.048 \n",
       "  \"/>\n",
       "<polyline clip-path=\"url(#clip0702)\" style=\"stroke:#009af9; stroke-width:1; stroke-opacity:1; fill:none\" points=\"\n",
       "  207.864,118.048 219.939,102.814 \n",
       "  \"/>\n",
       "<polyline clip-path=\"url(#clip0702)\" style=\"stroke:#009af9; stroke-width:1; stroke-opacity:1; fill:none\" points=\"\n",
       "  219.939,102.814 232.014,86.3747 \n",
       "  \"/>\n",
       "<polyline clip-path=\"url(#clip0702)\" style=\"stroke:#009af9; stroke-width:1; stroke-opacity:1; fill:none\" points=\"\n",
       "  232.014,86.3747 244.089,68.8936 \n",
       "  \"/>\n",
       "<polyline clip-path=\"url(#clip0702)\" style=\"stroke:#009af9; stroke-width:1; stroke-opacity:1; fill:none\" points=\"\n",
       "  244.089,68.8936 256.165,50.5333 \n",
       "  \"/>\n",
       "<polyline clip-path=\"url(#clip0702)\" style=\"stroke:#009af9; stroke-width:1; stroke-opacity:1; fill:none\" points=\"\n",
       "  256.165,50.5333 268.24,31.4539 \n",
       "  \"/>\n",
       "<polyline clip-path=\"url(#clip0702)\" style=\"stroke:#009af9; stroke-width:1; stroke-opacity:1; fill:none\" points=\"\n",
       "  268.24,31.4539 280.315,11.811 \n",
       "  \"/>\n",
       "<polygon clip-path=\"url(#clip0700)\" points=\"\n",
       "228.799,44.931 271.315,44.931 271.315,14.691 228.799,14.691 \n",
       "  \" fill=\"#ffffff\" fill-opacity=\"1\"/>\n",
       "<polyline clip-path=\"url(#clip0700)\" style=\"stroke:#000000; stroke-width:0.5; stroke-opacity:1; fill:none\" points=\"\n",
       "  228.799,44.931 271.315,44.931 271.315,14.691 228.799,14.691 228.799,44.931 \n",
       "  \"/>\n",
       "<polyline clip-path=\"url(#clip0700)\" style=\"stroke:#009af9; stroke-width:1; stroke-opacity:1; fill:none\" points=\"\n",
       "  231.799,29.811 249.799,29.811 \n",
       "  \"/>\n",
       "<g clip-path=\"url(#clip0700)\">\n",
       "<text style=\"fill:#000000; fill-opacity:1; font-family:Arial,Helvetica Neue,Helvetica,sans-serif; font-size:12; text-anchor:start;\" transform=\"rotate(0, 252.799, 34.311)\" x=\"252.799\" y=\"34.311\">y1</text>\n",
       "</g>\n",
       "</svg>\n"
      ]
     },
     "execution_count": 38,
     "metadata": {},
     "output_type": "execute_result"
    }
   ],
   "source": [
    "plot(nn.t[:], y_pred_list[1][:])"
   ]
  },
  {
   "cell_type": "markdown",
   "metadata": {},
   "source": [
    "# Predict new points"
   ]
  },
  {
   "cell_type": "code",
   "execution_count": 39,
   "metadata": {},
   "outputs": [
    {
     "data": {
      "text/plain": [
       "1×201 Array{Float64,2}:\n",
       " 0.0  0.01  0.02  0.03  0.04  0.05  …  1.95  1.96  1.97  1.98  1.99  2.0"
      ]
     },
     "execution_count": 39,
     "metadata": {},
     "output_type": "execute_result"
    }
   ],
   "source": [
    "t_test = [0.0:0.01:2;]\n",
    "t_test = reshape(t_test, 1, :) # shape = [n_input,n_sample]"
   ]
  },
  {
   "cell_type": "code",
   "execution_count": 40,
   "metadata": {},
   "outputs": [
    {
     "data": {
      "text/plain": [
       "(Any[[2.0 1.98018 … 2.526 2.54], [-1.0 -0.990091 … -1.26202 -1.26902]], Any[[-2.00303 -1.96183 … 1.39828 1.40126], [1.00105 0.980799 … -0.698455 -0.699888]])"
      ]
     },
     "execution_count": 40,
     "metadata": {},
     "output_type": "execute_result"
    }
   ],
   "source": [
    "y_test, _ = predict(nn, t=t_test)"
   ]
  },
  {
   "cell_type": "code",
   "execution_count": 41,
   "metadata": {},
   "outputs": [
    {
     "data": {
      "text/html": [
       "<?xml version=\"1.0\" encoding=\"utf-8\"?>\n",
       "<svg xmlns=\"http://www.w3.org/2000/svg\" xmlns:xlink=\"http://www.w3.org/1999/xlink\" width=\"300\" height=\"200\" viewBox=\"0 0 300 200\">\n",
       "<defs>\n",
       "  <clipPath id=\"clip00\">\n",
       "    <rect x=\"0\" y=\"0\" width=\"300\" height=\"200\"/>\n",
       "  </clipPath>\n",
       "</defs>\n",
       "<polygon clip-path=\"url(#clip0900)\" points=\"\n",
       "0,200 300,200 300,0 0,0 \n",
       "  \" fill=\"#ffffff\" fill-opacity=\"1\"/>\n",
       "<defs>\n",
       "  <clipPath id=\"clip01\">\n",
       "    <rect x=\"60\" y=\"0\" width=\"211\" height=\"200\"/>\n",
       "  </clipPath>\n",
       "</defs>\n",
       "<polygon clip-path=\"url(#clip0900)\" points=\"\n",
       "38.8117,175.813 280.315,175.813 280.315,11.811 38.8117,11.811 \n",
       "  \" fill=\"#ffffff\" fill-opacity=\"1\"/>\n",
       "<defs>\n",
       "  <clipPath id=\"clip02\">\n",
       "    <rect x=\"38\" y=\"11\" width=\"243\" height=\"165\"/>\n",
       "  </clipPath>\n",
       "</defs>\n",
       "<polyline clip-path=\"url(#clip0902)\" style=\"stroke:#000000; stroke-width:0.5; stroke-opacity:0.1; fill:none\" points=\"\n",
       "  38.8117,173.353 38.8117,14.2711 \n",
       "  \"/>\n",
       "<polyline clip-path=\"url(#clip0902)\" style=\"stroke:#000000; stroke-width:0.5; stroke-opacity:0.1; fill:none\" points=\"\n",
       "  99.1875,173.353 99.1875,14.2711 \n",
       "  \"/>\n",
       "<polyline clip-path=\"url(#clip0902)\" style=\"stroke:#000000; stroke-width:0.5; stroke-opacity:0.1; fill:none\" points=\"\n",
       "  159.563,173.353 159.563,14.2711 \n",
       "  \"/>\n",
       "<polyline clip-path=\"url(#clip0902)\" style=\"stroke:#000000; stroke-width:0.5; stroke-opacity:0.1; fill:none\" points=\"\n",
       "  219.939,173.353 219.939,14.2711 \n",
       "  \"/>\n",
       "<polyline clip-path=\"url(#clip0902)\" style=\"stroke:#000000; stroke-width:0.5; stroke-opacity:0.1; fill:none\" points=\"\n",
       "  280.315,173.353 280.315,14.2711 \n",
       "  \"/>\n",
       "<polyline clip-path=\"url(#clip0902)\" style=\"stroke:#000000; stroke-width:0.5; stroke-opacity:0.1; fill:none\" points=\"\n",
       "  42.4343,159.319 276.692,159.319 \n",
       "  \"/>\n",
       "<polyline clip-path=\"url(#clip0902)\" style=\"stroke:#000000; stroke-width:0.5; stroke-opacity:0.1; fill:none\" points=\"\n",
       "  42.4343,123.86 276.692,123.86 \n",
       "  \"/>\n",
       "<polyline clip-path=\"url(#clip0902)\" style=\"stroke:#000000; stroke-width:0.5; stroke-opacity:0.1; fill:none\" points=\"\n",
       "  42.4343,88.4014 276.692,88.4014 \n",
       "  \"/>\n",
       "<polyline clip-path=\"url(#clip0902)\" style=\"stroke:#000000; stroke-width:0.5; stroke-opacity:0.1; fill:none\" points=\"\n",
       "  42.4343,52.9425 276.692,52.9425 \n",
       "  \"/>\n",
       "<polyline clip-path=\"url(#clip0902)\" style=\"stroke:#000000; stroke-width:0.5; stroke-opacity:0.1; fill:none\" points=\"\n",
       "  42.4343,17.4837 276.692,17.4837 \n",
       "  \"/>\n",
       "<polyline clip-path=\"url(#clip0900)\" style=\"stroke:#000000; stroke-width:1; stroke-opacity:1; fill:none\" points=\"\n",
       "  38.8117,175.813 280.315,175.813 \n",
       "  \"/>\n",
       "<polyline clip-path=\"url(#clip0900)\" style=\"stroke:#000000; stroke-width:1; stroke-opacity:1; fill:none\" points=\"\n",
       "  38.8117,175.813 38.8117,11.811 \n",
       "  \"/>\n",
       "<polyline clip-path=\"url(#clip0900)\" style=\"stroke:#000000; stroke-width:1; stroke-opacity:1; fill:none\" points=\"\n",
       "  38.8117,175.813 38.8117,173.353 \n",
       "  \"/>\n",
       "<polyline clip-path=\"url(#clip0900)\" style=\"stroke:#000000; stroke-width:1; stroke-opacity:1; fill:none\" points=\"\n",
       "  99.1875,175.813 99.1875,173.353 \n",
       "  \"/>\n",
       "<polyline clip-path=\"url(#clip0900)\" style=\"stroke:#000000; stroke-width:1; stroke-opacity:1; fill:none\" points=\"\n",
       "  159.563,175.813 159.563,173.353 \n",
       "  \"/>\n",
       "<polyline clip-path=\"url(#clip0900)\" style=\"stroke:#000000; stroke-width:1; stroke-opacity:1; fill:none\" points=\"\n",
       "  219.939,175.813 219.939,173.353 \n",
       "  \"/>\n",
       "<polyline clip-path=\"url(#clip0900)\" style=\"stroke:#000000; stroke-width:1; stroke-opacity:1; fill:none\" points=\"\n",
       "  280.315,175.813 280.315,173.353 \n",
       "  \"/>\n",
       "<polyline clip-path=\"url(#clip0900)\" style=\"stroke:#000000; stroke-width:1; stroke-opacity:1; fill:none\" points=\"\n",
       "  38.8117,159.319 42.4343,159.319 \n",
       "  \"/>\n",
       "<polyline clip-path=\"url(#clip0900)\" style=\"stroke:#000000; stroke-width:1; stroke-opacity:1; fill:none\" points=\"\n",
       "  38.8117,123.86 42.4343,123.86 \n",
       "  \"/>\n",
       "<polyline clip-path=\"url(#clip0900)\" style=\"stroke:#000000; stroke-width:1; stroke-opacity:1; fill:none\" points=\"\n",
       "  38.8117,88.4014 42.4343,88.4014 \n",
       "  \"/>\n",
       "<polyline clip-path=\"url(#clip0900)\" style=\"stroke:#000000; stroke-width:1; stroke-opacity:1; fill:none\" points=\"\n",
       "  38.8117,52.9425 42.4343,52.9425 \n",
       "  \"/>\n",
       "<polyline clip-path=\"url(#clip0900)\" style=\"stroke:#000000; stroke-width:1; stroke-opacity:1; fill:none\" points=\"\n",
       "  38.8117,17.4837 42.4343,17.4837 \n",
       "  \"/>\n",
       "<g clip-path=\"url(#clip0900)\">\n",
       "<text style=\"fill:#000000; fill-opacity:1; font-family:Arial,Helvetica Neue,Helvetica,sans-serif; font-size:12; text-anchor:middle;\" transform=\"rotate(0, 38.8117, 188.113)\" x=\"38.8117\" y=\"188.113\">0.0</text>\n",
       "</g>\n",
       "<g clip-path=\"url(#clip0900)\">\n",
       "<text style=\"fill:#000000; fill-opacity:1; font-family:Arial,Helvetica Neue,Helvetica,sans-serif; font-size:12; text-anchor:middle;\" transform=\"rotate(0, 99.1875, 188.113)\" x=\"99.1875\" y=\"188.113\">0.5</text>\n",
       "</g>\n",
       "<g clip-path=\"url(#clip0900)\">\n",
       "<text style=\"fill:#000000; fill-opacity:1; font-family:Arial,Helvetica Neue,Helvetica,sans-serif; font-size:12; text-anchor:middle;\" transform=\"rotate(0, 159.563, 188.113)\" x=\"159.563\" y=\"188.113\">1.0</text>\n",
       "</g>\n",
       "<g clip-path=\"url(#clip0900)\">\n",
       "<text style=\"fill:#000000; fill-opacity:1; font-family:Arial,Helvetica Neue,Helvetica,sans-serif; font-size:12; text-anchor:middle;\" transform=\"rotate(0, 219.939, 188.113)\" x=\"219.939\" y=\"188.113\">1.5</text>\n",
       "</g>\n",
       "<g clip-path=\"url(#clip0900)\">\n",
       "<text style=\"fill:#000000; fill-opacity:1; font-family:Arial,Helvetica Neue,Helvetica,sans-serif; font-size:12; text-anchor:middle;\" transform=\"rotate(0, 280.315, 188.113)\" x=\"280.315\" y=\"188.113\">2.0</text>\n",
       "</g>\n",
       "<g clip-path=\"url(#clip0900)\">\n",
       "<text style=\"fill:#000000; fill-opacity:1; font-family:Arial,Helvetica Neue,Helvetica,sans-serif; font-size:12; text-anchor:end;\" transform=\"rotate(0, 35.8117, 163.819)\" x=\"35.8117\" y=\"163.819\">1.50</text>\n",
       "</g>\n",
       "<g clip-path=\"url(#clip0900)\">\n",
       "<text style=\"fill:#000000; fill-opacity:1; font-family:Arial,Helvetica Neue,Helvetica,sans-serif; font-size:12; text-anchor:end;\" transform=\"rotate(0, 35.8117, 128.36)\" x=\"35.8117\" y=\"128.36\">1.75</text>\n",
       "</g>\n",
       "<g clip-path=\"url(#clip0900)\">\n",
       "<text style=\"fill:#000000; fill-opacity:1; font-family:Arial,Helvetica Neue,Helvetica,sans-serif; font-size:12; text-anchor:end;\" transform=\"rotate(0, 35.8117, 92.9014)\" x=\"35.8117\" y=\"92.9014\">2.00</text>\n",
       "</g>\n",
       "<g clip-path=\"url(#clip0900)\">\n",
       "<text style=\"fill:#000000; fill-opacity:1; font-family:Arial,Helvetica Neue,Helvetica,sans-serif; font-size:12; text-anchor:end;\" transform=\"rotate(0, 35.8117, 57.4425)\" x=\"35.8117\" y=\"57.4425\">2.25</text>\n",
       "</g>\n",
       "<g clip-path=\"url(#clip0900)\">\n",
       "<text style=\"fill:#000000; fill-opacity:1; font-family:Arial,Helvetica Neue,Helvetica,sans-serif; font-size:12; text-anchor:end;\" transform=\"rotate(0, 35.8117, 21.9837)\" x=\"35.8117\" y=\"21.9837\">2.50</text>\n",
       "</g>\n",
       "<polyline clip-path=\"url(#clip0902)\" style=\"stroke:#009af9; stroke-width:1; stroke-opacity:1; fill:none\" points=\"\n",
       "  38.8117,88.4014 40.0193,91.2131 \n",
       "  \"/>\n",
       "<polyline clip-path=\"url(#clip0902)\" style=\"stroke:#009af9; stroke-width:1; stroke-opacity:1; fill:none\" points=\"\n",
       "  40.0193,91.2131 41.2268,93.9668 \n",
       "  \"/>\n",
       "<polyline clip-path=\"url(#clip0902)\" style=\"stroke:#009af9; stroke-width:1; stroke-opacity:1; fill:none\" points=\"\n",
       "  41.2268,93.9668 42.4343,96.6633 \n",
       "  \"/>\n",
       "<polyline clip-path=\"url(#clip0902)\" style=\"stroke:#009af9; stroke-width:1; stroke-opacity:1; fill:none\" points=\"\n",
       "  42.4343,96.6633 43.6418,99.3034 \n",
       "  \"/>\n",
       "<polyline clip-path=\"url(#clip0902)\" style=\"stroke:#009af9; stroke-width:1; stroke-opacity:1; fill:none\" points=\"\n",
       "  43.6418,99.3034 44.8493,101.888 \n",
       "  \"/>\n",
       "<polyline clip-path=\"url(#clip0902)\" style=\"stroke:#009af9; stroke-width:1; stroke-opacity:1; fill:none\" points=\"\n",
       "  44.8493,101.888 46.0568,104.418 \n",
       "  \"/>\n",
       "<polyline clip-path=\"url(#clip0902)\" style=\"stroke:#009af9; stroke-width:1; stroke-opacity:1; fill:none\" points=\"\n",
       "  46.0568,104.418 47.2643,106.893 \n",
       "  \"/>\n",
       "<polyline clip-path=\"url(#clip0902)\" style=\"stroke:#009af9; stroke-width:1; stroke-opacity:1; fill:none\" points=\"\n",
       "  47.2643,106.893 48.4719,109.315 \n",
       "  \"/>\n",
       "<polyline clip-path=\"url(#clip0902)\" style=\"stroke:#009af9; stroke-width:1; stroke-opacity:1; fill:none\" points=\"\n",
       "  48.4719,109.315 49.6794,111.685 \n",
       "  \"/>\n",
       "<polyline clip-path=\"url(#clip0902)\" style=\"stroke:#009af9; stroke-width:1; stroke-opacity:1; fill:none\" points=\"\n",
       "  49.6794,111.685 50.8869,114.002 \n",
       "  \"/>\n",
       "<polyline clip-path=\"url(#clip0902)\" style=\"stroke:#009af9; stroke-width:1; stroke-opacity:1; fill:none\" points=\"\n",
       "  50.8869,114.002 52.0944,116.268 \n",
       "  \"/>\n",
       "<polyline clip-path=\"url(#clip0902)\" style=\"stroke:#009af9; stroke-width:1; stroke-opacity:1; fill:none\" points=\"\n",
       "  52.0944,116.268 53.3019,118.483 \n",
       "  \"/>\n",
       "<polyline clip-path=\"url(#clip0902)\" style=\"stroke:#009af9; stroke-width:1; stroke-opacity:1; fill:none\" points=\"\n",
       "  53.3019,118.483 54.5094,120.648 \n",
       "  \"/>\n",
       "<polyline clip-path=\"url(#clip0902)\" style=\"stroke:#009af9; stroke-width:1; stroke-opacity:1; fill:none\" points=\"\n",
       "  54.5094,120.648 55.717,122.764 \n",
       "  \"/>\n",
       "<polyline clip-path=\"url(#clip0902)\" style=\"stroke:#009af9; stroke-width:1; stroke-opacity:1; fill:none\" points=\"\n",
       "  55.717,122.764 56.9245,124.83 \n",
       "  \"/>\n",
       "<polyline clip-path=\"url(#clip0902)\" style=\"stroke:#009af9; stroke-width:1; stroke-opacity:1; fill:none\" points=\"\n",
       "  56.9245,124.83 58.132,126.849 \n",
       "  \"/>\n",
       "<polyline clip-path=\"url(#clip0902)\" style=\"stroke:#009af9; stroke-width:1; stroke-opacity:1; fill:none\" points=\"\n",
       "  58.132,126.849 59.3395,128.819 \n",
       "  \"/>\n",
       "<polyline clip-path=\"url(#clip0902)\" style=\"stroke:#009af9; stroke-width:1; stroke-opacity:1; fill:none\" points=\"\n",
       "  59.3395,128.819 60.547,130.742 \n",
       "  \"/>\n",
       "<polyline clip-path=\"url(#clip0902)\" style=\"stroke:#009af9; stroke-width:1; stroke-opacity:1; fill:none\" points=\"\n",
       "  60.547,130.742 61.7545,132.619 \n",
       "  \"/>\n",
       "<polyline clip-path=\"url(#clip0902)\" style=\"stroke:#009af9; stroke-width:1; stroke-opacity:1; fill:none\" points=\"\n",
       "  61.7545,132.619 62.9621,134.449 \n",
       "  \"/>\n",
       "<polyline clip-path=\"url(#clip0902)\" style=\"stroke:#009af9; stroke-width:1; stroke-opacity:1; fill:none\" points=\"\n",
       "  62.9621,134.449 64.1696,136.234 \n",
       "  \"/>\n",
       "<polyline clip-path=\"url(#clip0902)\" style=\"stroke:#009af9; stroke-width:1; stroke-opacity:1; fill:none\" points=\"\n",
       "  64.1696,136.234 65.3771,137.973 \n",
       "  \"/>\n",
       "<polyline clip-path=\"url(#clip0902)\" style=\"stroke:#009af9; stroke-width:1; stroke-opacity:1; fill:none\" points=\"\n",
       "  65.3771,137.973 66.5846,139.668 \n",
       "  \"/>\n",
       "<polyline clip-path=\"url(#clip0902)\" style=\"stroke:#009af9; stroke-width:1; stroke-opacity:1; fill:none\" points=\"\n",
       "  66.5846,139.668 67.7921,141.319 \n",
       "  \"/>\n",
       "<polyline clip-path=\"url(#clip0902)\" style=\"stroke:#009af9; stroke-width:1; stroke-opacity:1; fill:none\" points=\"\n",
       "  67.7921,141.319 68.9996,142.925 \n",
       "  \"/>\n",
       "<polyline clip-path=\"url(#clip0902)\" style=\"stroke:#009af9; stroke-width:1; stroke-opacity:1; fill:none\" points=\"\n",
       "  68.9996,142.925 70.2072,144.488 \n",
       "  \"/>\n",
       "<polyline clip-path=\"url(#clip0902)\" style=\"stroke:#009af9; stroke-width:1; stroke-opacity:1; fill:none\" points=\"\n",
       "  70.2072,144.488 71.4147,146.008 \n",
       "  \"/>\n",
       "<polyline clip-path=\"url(#clip0902)\" style=\"stroke:#009af9; stroke-width:1; stroke-opacity:1; fill:none\" points=\"\n",
       "  71.4147,146.008 72.6222,147.486 \n",
       "  \"/>\n",
       "<polyline clip-path=\"url(#clip0902)\" style=\"stroke:#009af9; stroke-width:1; stroke-opacity:1; fill:none\" points=\"\n",
       "  72.6222,147.486 73.8297,148.922 \n",
       "  \"/>\n",
       "<polyline clip-path=\"url(#clip0902)\" style=\"stroke:#009af9; stroke-width:1; stroke-opacity:1; fill:none\" points=\"\n",
       "  73.8297,148.922 75.0372,150.316 \n",
       "  \"/>\n",
       "<polyline clip-path=\"url(#clip0902)\" style=\"stroke:#009af9; stroke-width:1; stroke-opacity:1; fill:none\" points=\"\n",
       "  75.0372,150.316 76.2447,151.668 \n",
       "  \"/>\n",
       "<polyline clip-path=\"url(#clip0902)\" style=\"stroke:#009af9; stroke-width:1; stroke-opacity:1; fill:none\" points=\"\n",
       "  76.2447,151.668 77.4523,152.98 \n",
       "  \"/>\n",
       "<polyline clip-path=\"url(#clip0902)\" style=\"stroke:#009af9; stroke-width:1; stroke-opacity:1; fill:none\" points=\"\n",
       "  77.4523,152.98 78.6598,154.251 \n",
       "  \"/>\n",
       "<polyline clip-path=\"url(#clip0902)\" style=\"stroke:#009af9; stroke-width:1; stroke-opacity:1; fill:none\" points=\"\n",
       "  78.6598,154.251 79.8673,155.482 \n",
       "  \"/>\n",
       "<polyline clip-path=\"url(#clip0902)\" style=\"stroke:#009af9; stroke-width:1; stroke-opacity:1; fill:none\" points=\"\n",
       "  79.8673,155.482 81.0748,156.673 \n",
       "  \"/>\n",
       "<polyline clip-path=\"url(#clip0902)\" style=\"stroke:#009af9; stroke-width:1; stroke-opacity:1; fill:none\" points=\"\n",
       "  81.0748,156.673 82.2823,157.825 \n",
       "  \"/>\n",
       "<polyline clip-path=\"url(#clip0902)\" style=\"stroke:#009af9; stroke-width:1; stroke-opacity:1; fill:none\" points=\"\n",
       "  82.2823,157.825 83.4898,158.937 \n",
       "  \"/>\n",
       "<polyline clip-path=\"url(#clip0902)\" style=\"stroke:#009af9; stroke-width:1; stroke-opacity:1; fill:none\" points=\"\n",
       "  83.4898,158.937 84.6973,160.011 \n",
       "  \"/>\n",
       "<polyline clip-path=\"url(#clip0902)\" style=\"stroke:#009af9; stroke-width:1; stroke-opacity:1; fill:none\" points=\"\n",
       "  84.6973,160.011 85.9049,161.046 \n",
       "  \"/>\n",
       "<polyline clip-path=\"url(#clip0902)\" style=\"stroke:#009af9; stroke-width:1; stroke-opacity:1; fill:none\" points=\"\n",
       "  85.9049,161.046 87.1124,162.044 \n",
       "  \"/>\n",
       "<polyline clip-path=\"url(#clip0902)\" style=\"stroke:#009af9; stroke-width:1; stroke-opacity:1; fill:none\" points=\"\n",
       "  87.1124,162.044 88.3199,163.003 \n",
       "  \"/>\n",
       "<polyline clip-path=\"url(#clip0902)\" style=\"stroke:#009af9; stroke-width:1; stroke-opacity:1; fill:none\" points=\"\n",
       "  88.3199,163.003 89.5274,163.926 \n",
       "  \"/>\n",
       "<polyline clip-path=\"url(#clip0902)\" style=\"stroke:#009af9; stroke-width:1; stroke-opacity:1; fill:none\" points=\"\n",
       "  89.5274,163.926 90.7349,164.811 \n",
       "  \"/>\n",
       "<polyline clip-path=\"url(#clip0902)\" style=\"stroke:#009af9; stroke-width:1; stroke-opacity:1; fill:none\" points=\"\n",
       "  90.7349,164.811 91.9424,165.659 \n",
       "  \"/>\n",
       "<polyline clip-path=\"url(#clip0902)\" style=\"stroke:#009af9; stroke-width:1; stroke-opacity:1; fill:none\" points=\"\n",
       "  91.9424,165.659 93.15,166.471 \n",
       "  \"/>\n",
       "<polyline clip-path=\"url(#clip0902)\" style=\"stroke:#009af9; stroke-width:1; stroke-opacity:1; fill:none\" points=\"\n",
       "  93.15,166.471 94.3575,167.247 \n",
       "  \"/>\n",
       "<polyline clip-path=\"url(#clip0902)\" style=\"stroke:#009af9; stroke-width:1; stroke-opacity:1; fill:none\" points=\"\n",
       "  94.3575,167.247 95.565,167.987 \n",
       "  \"/>\n",
       "<polyline clip-path=\"url(#clip0902)\" style=\"stroke:#009af9; stroke-width:1; stroke-opacity:1; fill:none\" points=\"\n",
       "  95.565,167.987 96.7725,168.692 \n",
       "  \"/>\n",
       "<polyline clip-path=\"url(#clip0902)\" style=\"stroke:#009af9; stroke-width:1; stroke-opacity:1; fill:none\" points=\"\n",
       "  96.7725,168.692 97.98,169.361 \n",
       "  \"/>\n",
       "<polyline clip-path=\"url(#clip0902)\" style=\"stroke:#009af9; stroke-width:1; stroke-opacity:1; fill:none\" points=\"\n",
       "  97.98,169.361 99.1875,169.995 \n",
       "  \"/>\n",
       "<polyline clip-path=\"url(#clip0902)\" style=\"stroke:#009af9; stroke-width:1; stroke-opacity:1; fill:none\" points=\"\n",
       "  99.1875,169.995 100.395,170.595 \n",
       "  \"/>\n",
       "<polyline clip-path=\"url(#clip0902)\" style=\"stroke:#009af9; stroke-width:1; stroke-opacity:1; fill:none\" points=\"\n",
       "  100.395,170.595 101.603,171.161 \n",
       "  \"/>\n",
       "<polyline clip-path=\"url(#clip0902)\" style=\"stroke:#009af9; stroke-width:1; stroke-opacity:1; fill:none\" points=\"\n",
       "  101.603,171.161 102.81,171.693 \n",
       "  \"/>\n",
       "<polyline clip-path=\"url(#clip0902)\" style=\"stroke:#009af9; stroke-width:1; stroke-opacity:1; fill:none\" points=\"\n",
       "  102.81,171.693 104.018,172.19 \n",
       "  \"/>\n",
       "<polyline clip-path=\"url(#clip0902)\" style=\"stroke:#009af9; stroke-width:1; stroke-opacity:1; fill:none\" points=\"\n",
       "  104.018,172.19 105.225,172.655 \n",
       "  \"/>\n",
       "<polyline clip-path=\"url(#clip0902)\" style=\"stroke:#009af9; stroke-width:1; stroke-opacity:1; fill:none\" points=\"\n",
       "  105.225,172.655 106.433,173.086 \n",
       "  \"/>\n",
       "<polyline clip-path=\"url(#clip0902)\" style=\"stroke:#009af9; stroke-width:1; stroke-opacity:1; fill:none\" points=\"\n",
       "  106.433,173.086 107.64,173.485 \n",
       "  \"/>\n",
       "<polyline clip-path=\"url(#clip0902)\" style=\"stroke:#009af9; stroke-width:1; stroke-opacity:1; fill:none\" points=\"\n",
       "  107.64,173.485 108.848,173.851 \n",
       "  \"/>\n",
       "<polyline clip-path=\"url(#clip0902)\" style=\"stroke:#009af9; stroke-width:1; stroke-opacity:1; fill:none\" points=\"\n",
       "  108.848,173.851 110.055,174.185 \n",
       "  \"/>\n",
       "<polyline clip-path=\"url(#clip0902)\" style=\"stroke:#009af9; stroke-width:1; stroke-opacity:1; fill:none\" points=\"\n",
       "  110.055,174.185 111.263,174.487 \n",
       "  \"/>\n",
       "<polyline clip-path=\"url(#clip0902)\" style=\"stroke:#009af9; stroke-width:1; stroke-opacity:1; fill:none\" points=\"\n",
       "  111.263,174.487 112.47,174.757 \n",
       "  \"/>\n",
       "<polyline clip-path=\"url(#clip0902)\" style=\"stroke:#009af9; stroke-width:1; stroke-opacity:1; fill:none\" points=\"\n",
       "  112.47,174.757 113.678,174.996 \n",
       "  \"/>\n",
       "<polyline clip-path=\"url(#clip0902)\" style=\"stroke:#009af9; stroke-width:1; stroke-opacity:1; fill:none\" points=\"\n",
       "  113.678,174.996 114.885,175.204 \n",
       "  \"/>\n",
       "<polyline clip-path=\"url(#clip0902)\" style=\"stroke:#009af9; stroke-width:1; stroke-opacity:1; fill:none\" points=\"\n",
       "  114.885,175.204 116.093,175.381 \n",
       "  \"/>\n",
       "<polyline clip-path=\"url(#clip0902)\" style=\"stroke:#009af9; stroke-width:1; stroke-opacity:1; fill:none\" points=\"\n",
       "  116.093,175.381 117.3,175.527 \n",
       "  \"/>\n",
       "<polyline clip-path=\"url(#clip0902)\" style=\"stroke:#009af9; stroke-width:1; stroke-opacity:1; fill:none\" points=\"\n",
       "  117.3,175.527 118.508,175.644 \n",
       "  \"/>\n",
       "<polyline clip-path=\"url(#clip0902)\" style=\"stroke:#009af9; stroke-width:1; stroke-opacity:1; fill:none\" points=\"\n",
       "  118.508,175.644 119.715,175.73 \n",
       "  \"/>\n",
       "<polyline clip-path=\"url(#clip0902)\" style=\"stroke:#009af9; stroke-width:1; stroke-opacity:1; fill:none\" points=\"\n",
       "  119.715,175.73 120.923,175.786 \n",
       "  \"/>\n",
       "<polyline clip-path=\"url(#clip0902)\" style=\"stroke:#009af9; stroke-width:1; stroke-opacity:1; fill:none\" points=\"\n",
       "  120.923,175.786 122.13,175.813 \n",
       "  \"/>\n",
       "<polyline clip-path=\"url(#clip0902)\" style=\"stroke:#009af9; stroke-width:1; stroke-opacity:1; fill:none\" points=\"\n",
       "  122.13,175.813 123.338,175.811 \n",
       "  \"/>\n",
       "<polyline clip-path=\"url(#clip0902)\" style=\"stroke:#009af9; stroke-width:1; stroke-opacity:1; fill:none\" points=\"\n",
       "  123.338,175.811 124.545,175.781 \n",
       "  \"/>\n",
       "<polyline clip-path=\"url(#clip0902)\" style=\"stroke:#009af9; stroke-width:1; stroke-opacity:1; fill:none\" points=\"\n",
       "  124.545,175.781 125.753,175.721 \n",
       "  \"/>\n",
       "<polyline clip-path=\"url(#clip0902)\" style=\"stroke:#009af9; stroke-width:1; stroke-opacity:1; fill:none\" points=\"\n",
       "  125.753,175.721 126.96,175.633 \n",
       "  \"/>\n",
       "<polyline clip-path=\"url(#clip0902)\" style=\"stroke:#009af9; stroke-width:1; stroke-opacity:1; fill:none\" points=\"\n",
       "  126.96,175.633 128.168,175.517 \n",
       "  \"/>\n",
       "<polyline clip-path=\"url(#clip0902)\" style=\"stroke:#009af9; stroke-width:1; stroke-opacity:1; fill:none\" points=\"\n",
       "  128.168,175.517 129.375,175.374 \n",
       "  \"/>\n",
       "<polyline clip-path=\"url(#clip0902)\" style=\"stroke:#009af9; stroke-width:1; stroke-opacity:1; fill:none\" points=\"\n",
       "  129.375,175.374 130.583,175.203 \n",
       "  \"/>\n",
       "<polyline clip-path=\"url(#clip0902)\" style=\"stroke:#009af9; stroke-width:1; stroke-opacity:1; fill:none\" points=\"\n",
       "  130.583,175.203 131.79,175.004 \n",
       "  \"/>\n",
       "<polyline clip-path=\"url(#clip0902)\" style=\"stroke:#009af9; stroke-width:1; stroke-opacity:1; fill:none\" points=\"\n",
       "  131.79,175.004 132.998,174.779 \n",
       "  \"/>\n",
       "<polyline clip-path=\"url(#clip0902)\" style=\"stroke:#009af9; stroke-width:1; stroke-opacity:1; fill:none\" points=\"\n",
       "  132.998,174.779 134.206,174.527 \n",
       "  \"/>\n",
       "<polyline clip-path=\"url(#clip0902)\" style=\"stroke:#009af9; stroke-width:1; stroke-opacity:1; fill:none\" points=\"\n",
       "  134.206,174.527 135.413,174.248 \n",
       "  \"/>\n",
       "<polyline clip-path=\"url(#clip0902)\" style=\"stroke:#009af9; stroke-width:1; stroke-opacity:1; fill:none\" points=\"\n",
       "  135.413,174.248 136.621,173.944 \n",
       "  \"/>\n",
       "<polyline clip-path=\"url(#clip0902)\" style=\"stroke:#009af9; stroke-width:1; stroke-opacity:1; fill:none\" points=\"\n",
       "  136.621,173.944 137.828,173.613 \n",
       "  \"/>\n",
       "<polyline clip-path=\"url(#clip0902)\" style=\"stroke:#009af9; stroke-width:1; stroke-opacity:1; fill:none\" points=\"\n",
       "  137.828,173.613 139.036,173.257 \n",
       "  \"/>\n",
       "<polyline clip-path=\"url(#clip0902)\" style=\"stroke:#009af9; stroke-width:1; stroke-opacity:1; fill:none\" points=\"\n",
       "  139.036,173.257 140.243,172.875 \n",
       "  \"/>\n",
       "<polyline clip-path=\"url(#clip0902)\" style=\"stroke:#009af9; stroke-width:1; stroke-opacity:1; fill:none\" points=\"\n",
       "  140.243,172.875 141.451,172.468 \n",
       "  \"/>\n",
       "<polyline clip-path=\"url(#clip0902)\" style=\"stroke:#009af9; stroke-width:1; stroke-opacity:1; fill:none\" points=\"\n",
       "  141.451,172.468 142.658,172.036 \n",
       "  \"/>\n",
       "<polyline clip-path=\"url(#clip0902)\" style=\"stroke:#009af9; stroke-width:1; stroke-opacity:1; fill:none\" points=\"\n",
       "  142.658,172.036 143.866,171.58 \n",
       "  \"/>\n",
       "<polyline clip-path=\"url(#clip0902)\" style=\"stroke:#009af9; stroke-width:1; stroke-opacity:1; fill:none\" points=\"\n",
       "  143.866,171.58 145.073,171.099 \n",
       "  \"/>\n",
       "<polyline clip-path=\"url(#clip0902)\" style=\"stroke:#009af9; stroke-width:1; stroke-opacity:1; fill:none\" points=\"\n",
       "  145.073,171.099 146.281,170.594 \n",
       "  \"/>\n",
       "<polyline clip-path=\"url(#clip0902)\" style=\"stroke:#009af9; stroke-width:1; stroke-opacity:1; fill:none\" points=\"\n",
       "  146.281,170.594 147.488,170.065 \n",
       "  \"/>\n",
       "<polyline clip-path=\"url(#clip0902)\" style=\"stroke:#009af9; stroke-width:1; stroke-opacity:1; fill:none\" points=\"\n",
       "  147.488,170.065 148.696,169.513 \n",
       "  \"/>\n",
       "<polyline clip-path=\"url(#clip0902)\" style=\"stroke:#009af9; stroke-width:1; stroke-opacity:1; fill:none\" points=\"\n",
       "  148.696,169.513 149.903,168.937 \n",
       "  \"/>\n",
       "<polyline clip-path=\"url(#clip0902)\" style=\"stroke:#009af9; stroke-width:1; stroke-opacity:1; fill:none\" points=\"\n",
       "  149.903,168.937 151.111,168.338 \n",
       "  \"/>\n",
       "<polyline clip-path=\"url(#clip0902)\" style=\"stroke:#009af9; stroke-width:1; stroke-opacity:1; fill:none\" points=\"\n",
       "  151.111,168.338 152.318,167.716 \n",
       "  \"/>\n",
       "<polyline clip-path=\"url(#clip0902)\" style=\"stroke:#009af9; stroke-width:1; stroke-opacity:1; fill:none\" points=\"\n",
       "  152.318,167.716 153.526,167.071 \n",
       "  \"/>\n",
       "<polyline clip-path=\"url(#clip0902)\" style=\"stroke:#009af9; stroke-width:1; stroke-opacity:1; fill:none\" points=\"\n",
       "  153.526,167.071 154.733,166.404 \n",
       "  \"/>\n",
       "<polyline clip-path=\"url(#clip0902)\" style=\"stroke:#009af9; stroke-width:1; stroke-opacity:1; fill:none\" points=\"\n",
       "  154.733,166.404 155.941,165.715 \n",
       "  \"/>\n",
       "<polyline clip-path=\"url(#clip0902)\" style=\"stroke:#009af9; stroke-width:1; stroke-opacity:1; fill:none\" points=\"\n",
       "  155.941,165.715 157.148,165.003 \n",
       "  \"/>\n",
       "<polyline clip-path=\"url(#clip0902)\" style=\"stroke:#009af9; stroke-width:1; stroke-opacity:1; fill:none\" points=\"\n",
       "  157.148,165.003 158.356,164.27 \n",
       "  \"/>\n",
       "<polyline clip-path=\"url(#clip0902)\" style=\"stroke:#009af9; stroke-width:1; stroke-opacity:1; fill:none\" points=\"\n",
       "  158.356,164.27 159.563,163.515 \n",
       "  \"/>\n",
       "<polyline clip-path=\"url(#clip0902)\" style=\"stroke:#009af9; stroke-width:1; stroke-opacity:1; fill:none\" points=\"\n",
       "  159.563,163.515 160.771,162.739 \n",
       "  \"/>\n",
       "<polyline clip-path=\"url(#clip0902)\" style=\"stroke:#009af9; stroke-width:1; stroke-opacity:1; fill:none\" points=\"\n",
       "  160.771,162.739 161.978,161.942 \n",
       "  \"/>\n",
       "<polyline clip-path=\"url(#clip0902)\" style=\"stroke:#009af9; stroke-width:1; stroke-opacity:1; fill:none\" points=\"\n",
       "  161.978,161.942 163.186,161.124 \n",
       "  \"/>\n",
       "<polyline clip-path=\"url(#clip0902)\" style=\"stroke:#009af9; stroke-width:1; stroke-opacity:1; fill:none\" points=\"\n",
       "  163.186,161.124 164.393,160.286 \n",
       "  \"/>\n",
       "<polyline clip-path=\"url(#clip0902)\" style=\"stroke:#009af9; stroke-width:1; stroke-opacity:1; fill:none\" points=\"\n",
       "  164.393,160.286 165.601,159.427 \n",
       "  \"/>\n",
       "<polyline clip-path=\"url(#clip0902)\" style=\"stroke:#009af9; stroke-width:1; stroke-opacity:1; fill:none\" points=\"\n",
       "  165.601,159.427 166.808,158.547 \n",
       "  \"/>\n",
       "<polyline clip-path=\"url(#clip0902)\" style=\"stroke:#009af9; stroke-width:1; stroke-opacity:1; fill:none\" points=\"\n",
       "  166.808,158.547 168.016,157.648 \n",
       "  \"/>\n",
       "<polyline clip-path=\"url(#clip0902)\" style=\"stroke:#009af9; stroke-width:1; stroke-opacity:1; fill:none\" points=\"\n",
       "  168.016,157.648 169.223,156.729 \n",
       "  \"/>\n",
       "<polyline clip-path=\"url(#clip0902)\" style=\"stroke:#009af9; stroke-width:1; stroke-opacity:1; fill:none\" points=\"\n",
       "  169.223,156.729 170.431,155.791 \n",
       "  \"/>\n",
       "<polyline clip-path=\"url(#clip0902)\" style=\"stroke:#009af9; stroke-width:1; stroke-opacity:1; fill:none\" points=\"\n",
       "  170.431,155.791 171.639,154.833 \n",
       "  \"/>\n",
       "<polyline clip-path=\"url(#clip0902)\" style=\"stroke:#009af9; stroke-width:1; stroke-opacity:1; fill:none\" points=\"\n",
       "  171.639,154.833 172.846,153.856 \n",
       "  \"/>\n",
       "<polyline clip-path=\"url(#clip0902)\" style=\"stroke:#009af9; stroke-width:1; stroke-opacity:1; fill:none\" points=\"\n",
       "  172.846,153.856 174.054,152.859 \n",
       "  \"/>\n",
       "<polyline clip-path=\"url(#clip0902)\" style=\"stroke:#009af9; stroke-width:1; stroke-opacity:1; fill:none\" points=\"\n",
       "  174.054,152.859 175.261,151.845 \n",
       "  \"/>\n",
       "<polyline clip-path=\"url(#clip0902)\" style=\"stroke:#009af9; stroke-width:1; stroke-opacity:1; fill:none\" points=\"\n",
       "  175.261,151.845 176.469,150.811 \n",
       "  \"/>\n",
       "<polyline clip-path=\"url(#clip0902)\" style=\"stroke:#009af9; stroke-width:1; stroke-opacity:1; fill:none\" points=\"\n",
       "  176.469,150.811 177.676,149.759 \n",
       "  \"/>\n",
       "<polyline clip-path=\"url(#clip0902)\" style=\"stroke:#009af9; stroke-width:1; stroke-opacity:1; fill:none\" points=\"\n",
       "  177.676,149.759 178.884,148.69 \n",
       "  \"/>\n",
       "<polyline clip-path=\"url(#clip0902)\" style=\"stroke:#009af9; stroke-width:1; stroke-opacity:1; fill:none\" points=\"\n",
       "  178.884,148.69 180.091,147.602 \n",
       "  \"/>\n",
       "<polyline clip-path=\"url(#clip0902)\" style=\"stroke:#009af9; stroke-width:1; stroke-opacity:1; fill:none\" points=\"\n",
       "  180.091,147.602 181.299,146.496 \n",
       "  \"/>\n",
       "<polyline clip-path=\"url(#clip0902)\" style=\"stroke:#009af9; stroke-width:1; stroke-opacity:1; fill:none\" points=\"\n",
       "  181.299,146.496 182.506,145.373 \n",
       "  \"/>\n",
       "<polyline clip-path=\"url(#clip0902)\" style=\"stroke:#009af9; stroke-width:1; stroke-opacity:1; fill:none\" points=\"\n",
       "  182.506,145.373 183.714,144.232 \n",
       "  \"/>\n",
       "<polyline clip-path=\"url(#clip0902)\" style=\"stroke:#009af9; stroke-width:1; stroke-opacity:1; fill:none\" points=\"\n",
       "  183.714,144.232 184.921,143.074 \n",
       "  \"/>\n",
       "<polyline clip-path=\"url(#clip0902)\" style=\"stroke:#009af9; stroke-width:1; stroke-opacity:1; fill:none\" points=\"\n",
       "  184.921,143.074 186.129,141.899 \n",
       "  \"/>\n",
       "<polyline clip-path=\"url(#clip0902)\" style=\"stroke:#009af9; stroke-width:1; stroke-opacity:1; fill:none\" points=\"\n",
       "  186.129,141.899 187.336,140.708 \n",
       "  \"/>\n",
       "<polyline clip-path=\"url(#clip0902)\" style=\"stroke:#009af9; stroke-width:1; stroke-opacity:1; fill:none\" points=\"\n",
       "  187.336,140.708 188.544,139.499 \n",
       "  \"/>\n",
       "<polyline clip-path=\"url(#clip0902)\" style=\"stroke:#009af9; stroke-width:1; stroke-opacity:1; fill:none\" points=\"\n",
       "  188.544,139.499 189.751,138.275 \n",
       "  \"/>\n",
       "<polyline clip-path=\"url(#clip0902)\" style=\"stroke:#009af9; stroke-width:1; stroke-opacity:1; fill:none\" points=\"\n",
       "  189.751,138.275 190.959,137.034 \n",
       "  \"/>\n",
       "<polyline clip-path=\"url(#clip0902)\" style=\"stroke:#009af9; stroke-width:1; stroke-opacity:1; fill:none\" points=\"\n",
       "  190.959,137.034 192.166,135.776 \n",
       "  \"/>\n",
       "<polyline clip-path=\"url(#clip0902)\" style=\"stroke:#009af9; stroke-width:1; stroke-opacity:1; fill:none\" points=\"\n",
       "  192.166,135.776 193.374,134.503 \n",
       "  \"/>\n",
       "<polyline clip-path=\"url(#clip0902)\" style=\"stroke:#009af9; stroke-width:1; stroke-opacity:1; fill:none\" points=\"\n",
       "  193.374,134.503 194.581,133.214 \n",
       "  \"/>\n",
       "<polyline clip-path=\"url(#clip0902)\" style=\"stroke:#009af9; stroke-width:1; stroke-opacity:1; fill:none\" points=\"\n",
       "  194.581,133.214 195.789,131.91 \n",
       "  \"/>\n",
       "<polyline clip-path=\"url(#clip0902)\" style=\"stroke:#009af9; stroke-width:1; stroke-opacity:1; fill:none\" points=\"\n",
       "  195.789,131.91 196.996,130.59 \n",
       "  \"/>\n",
       "<polyline clip-path=\"url(#clip0902)\" style=\"stroke:#009af9; stroke-width:1; stroke-opacity:1; fill:none\" points=\"\n",
       "  196.996,130.59 198.204,129.255 \n",
       "  \"/>\n",
       "<polyline clip-path=\"url(#clip0902)\" style=\"stroke:#009af9; stroke-width:1; stroke-opacity:1; fill:none\" points=\"\n",
       "  198.204,129.255 199.411,127.905 \n",
       "  \"/>\n",
       "<polyline clip-path=\"url(#clip0902)\" style=\"stroke:#009af9; stroke-width:1; stroke-opacity:1; fill:none\" points=\"\n",
       "  199.411,127.905 200.619,126.54 \n",
       "  \"/>\n",
       "<polyline clip-path=\"url(#clip0902)\" style=\"stroke:#009af9; stroke-width:1; stroke-opacity:1; fill:none\" points=\"\n",
       "  200.619,126.54 201.826,125.16 \n",
       "  \"/>\n",
       "<polyline clip-path=\"url(#clip0902)\" style=\"stroke:#009af9; stroke-width:1; stroke-opacity:1; fill:none\" points=\"\n",
       "  201.826,125.16 203.034,123.766 \n",
       "  \"/>\n",
       "<polyline clip-path=\"url(#clip0902)\" style=\"stroke:#009af9; stroke-width:1; stroke-opacity:1; fill:none\" points=\"\n",
       "  203.034,123.766 204.241,122.357 \n",
       "  \"/>\n",
       "<polyline clip-path=\"url(#clip0902)\" style=\"stroke:#009af9; stroke-width:1; stroke-opacity:1; fill:none\" points=\"\n",
       "  204.241,122.357 205.449,120.934 \n",
       "  \"/>\n",
       "<polyline clip-path=\"url(#clip0902)\" style=\"stroke:#009af9; stroke-width:1; stroke-opacity:1; fill:none\" points=\"\n",
       "  205.449,120.934 206.656,119.497 \n",
       "  \"/>\n",
       "<polyline clip-path=\"url(#clip0902)\" style=\"stroke:#009af9; stroke-width:1; stroke-opacity:1; fill:none\" points=\"\n",
       "  206.656,119.497 207.864,118.046 \n",
       "  \"/>\n",
       "<polyline clip-path=\"url(#clip0902)\" style=\"stroke:#009af9; stroke-width:1; stroke-opacity:1; fill:none\" points=\"\n",
       "  207.864,118.046 209.072,116.582 \n",
       "  \"/>\n",
       "<polyline clip-path=\"url(#clip0902)\" style=\"stroke:#009af9; stroke-width:1; stroke-opacity:1; fill:none\" points=\"\n",
       "  209.072,116.582 210.279,115.104 \n",
       "  \"/>\n",
       "<polyline clip-path=\"url(#clip0902)\" style=\"stroke:#009af9; stroke-width:1; stroke-opacity:1; fill:none\" points=\"\n",
       "  210.279,115.104 211.487,113.613 \n",
       "  \"/>\n",
       "<polyline clip-path=\"url(#clip0902)\" style=\"stroke:#009af9; stroke-width:1; stroke-opacity:1; fill:none\" points=\"\n",
       "  211.487,113.613 212.694,112.108 \n",
       "  \"/>\n",
       "<polyline clip-path=\"url(#clip0902)\" style=\"stroke:#009af9; stroke-width:1; stroke-opacity:1; fill:none\" points=\"\n",
       "  212.694,112.108 213.902,110.59 \n",
       "  \"/>\n",
       "<polyline clip-path=\"url(#clip0902)\" style=\"stroke:#009af9; stroke-width:1; stroke-opacity:1; fill:none\" points=\"\n",
       "  213.902,110.59 215.109,109.06 \n",
       "  \"/>\n",
       "<polyline clip-path=\"url(#clip0902)\" style=\"stroke:#009af9; stroke-width:1; stroke-opacity:1; fill:none\" points=\"\n",
       "  215.109,109.06 216.317,107.517 \n",
       "  \"/>\n",
       "<polyline clip-path=\"url(#clip0902)\" style=\"stroke:#009af9; stroke-width:1; stroke-opacity:1; fill:none\" points=\"\n",
       "  216.317,107.517 217.524,105.961 \n",
       "  \"/>\n",
       "<polyline clip-path=\"url(#clip0902)\" style=\"stroke:#009af9; stroke-width:1; stroke-opacity:1; fill:none\" points=\"\n",
       "  217.524,105.961 218.732,104.393 \n",
       "  \"/>\n",
       "<polyline clip-path=\"url(#clip0902)\" style=\"stroke:#009af9; stroke-width:1; stroke-opacity:1; fill:none\" points=\"\n",
       "  218.732,104.393 219.939,102.813 \n",
       "  \"/>\n",
       "<polyline clip-path=\"url(#clip0902)\" style=\"stroke:#009af9; stroke-width:1; stroke-opacity:1; fill:none\" points=\"\n",
       "  219.939,102.813 221.147,101.22 \n",
       "  \"/>\n",
       "<polyline clip-path=\"url(#clip0902)\" style=\"stroke:#009af9; stroke-width:1; stroke-opacity:1; fill:none\" points=\"\n",
       "  221.147,101.22 222.354,99.6161 \n",
       "  \"/>\n",
       "<polyline clip-path=\"url(#clip0902)\" style=\"stroke:#009af9; stroke-width:1; stroke-opacity:1; fill:none\" points=\"\n",
       "  222.354,99.6161 223.562,98.0001 \n",
       "  \"/>\n",
       "<polyline clip-path=\"url(#clip0902)\" style=\"stroke:#009af9; stroke-width:1; stroke-opacity:1; fill:none\" points=\"\n",
       "  223.562,98.0001 224.769,96.3726 \n",
       "  \"/>\n",
       "<polyline clip-path=\"url(#clip0902)\" style=\"stroke:#009af9; stroke-width:1; stroke-opacity:1; fill:none\" points=\"\n",
       "  224.769,96.3726 225.977,94.7336 \n",
       "  \"/>\n",
       "<polyline clip-path=\"url(#clip0902)\" style=\"stroke:#009af9; stroke-width:1; stroke-opacity:1; fill:none\" points=\"\n",
       "  225.977,94.7336 227.184,93.0835 \n",
       "  \"/>\n",
       "<polyline clip-path=\"url(#clip0902)\" style=\"stroke:#009af9; stroke-width:1; stroke-opacity:1; fill:none\" points=\"\n",
       "  227.184,93.0835 228.392,91.4222 \n",
       "  \"/>\n",
       "<polyline clip-path=\"url(#clip0902)\" style=\"stroke:#009af9; stroke-width:1; stroke-opacity:1; fill:none\" points=\"\n",
       "  228.392,91.4222 229.599,89.7501 \n",
       "  \"/>\n",
       "<polyline clip-path=\"url(#clip0902)\" style=\"stroke:#009af9; stroke-width:1; stroke-opacity:1; fill:none\" points=\"\n",
       "  229.599,89.7501 230.807,88.0672 \n",
       "  \"/>\n",
       "<polyline clip-path=\"url(#clip0902)\" style=\"stroke:#009af9; stroke-width:1; stroke-opacity:1; fill:none\" points=\"\n",
       "  230.807,88.0672 232.014,86.3737 \n",
       "  \"/>\n",
       "<polyline clip-path=\"url(#clip0902)\" style=\"stroke:#009af9; stroke-width:1; stroke-opacity:1; fill:none\" points=\"\n",
       "  232.014,86.3737 233.222,84.6699 \n",
       "  \"/>\n",
       "<polyline clip-path=\"url(#clip0902)\" style=\"stroke:#009af9; stroke-width:1; stroke-opacity:1; fill:none\" points=\"\n",
       "  233.222,84.6699 234.429,82.9557 \n",
       "  \"/>\n",
       "<polyline clip-path=\"url(#clip0902)\" style=\"stroke:#009af9; stroke-width:1; stroke-opacity:1; fill:none\" points=\"\n",
       "  234.429,82.9557 235.637,81.2315 \n",
       "  \"/>\n",
       "<polyline clip-path=\"url(#clip0902)\" style=\"stroke:#009af9; stroke-width:1; stroke-opacity:1; fill:none\" points=\"\n",
       "  235.637,81.2315 236.844,79.4973 \n",
       "  \"/>\n",
       "<polyline clip-path=\"url(#clip0902)\" style=\"stroke:#009af9; stroke-width:1; stroke-opacity:1; fill:none\" points=\"\n",
       "  236.844,79.4973 238.052,77.7534 \n",
       "  \"/>\n",
       "<polyline clip-path=\"url(#clip0902)\" style=\"stroke:#009af9; stroke-width:1; stroke-opacity:1; fill:none\" points=\"\n",
       "  238.052,77.7534 239.259,75.9999 \n",
       "  \"/>\n",
       "<polyline clip-path=\"url(#clip0902)\" style=\"stroke:#009af9; stroke-width:1; stroke-opacity:1; fill:none\" points=\"\n",
       "  239.259,75.9999 240.467,74.2369 \n",
       "  \"/>\n",
       "<polyline clip-path=\"url(#clip0902)\" style=\"stroke:#009af9; stroke-width:1; stroke-opacity:1; fill:none\" points=\"\n",
       "  240.467,74.2369 241.674,72.4646 \n",
       "  \"/>\n",
       "<polyline clip-path=\"url(#clip0902)\" style=\"stroke:#009af9; stroke-width:1; stroke-opacity:1; fill:none\" points=\"\n",
       "  241.674,72.4646 242.882,70.6833 \n",
       "  \"/>\n",
       "<polyline clip-path=\"url(#clip0902)\" style=\"stroke:#009af9; stroke-width:1; stroke-opacity:1; fill:none\" points=\"\n",
       "  242.882,70.6833 244.089,68.8929 \n",
       "  \"/>\n",
       "<polyline clip-path=\"url(#clip0902)\" style=\"stroke:#009af9; stroke-width:1; stroke-opacity:1; fill:none\" points=\"\n",
       "  244.089,68.8929 245.297,67.0938 \n",
       "  \"/>\n",
       "<polyline clip-path=\"url(#clip0902)\" style=\"stroke:#009af9; stroke-width:1; stroke-opacity:1; fill:none\" points=\"\n",
       "  245.297,67.0938 246.505,65.2861 \n",
       "  \"/>\n",
       "<polyline clip-path=\"url(#clip0902)\" style=\"stroke:#009af9; stroke-width:1; stroke-opacity:1; fill:none\" points=\"\n",
       "  246.505,65.2861 247.712,63.4699 \n",
       "  \"/>\n",
       "<polyline clip-path=\"url(#clip0902)\" style=\"stroke:#009af9; stroke-width:1; stroke-opacity:1; fill:none\" points=\"\n",
       "  247.712,63.4699 248.92,61.6453 \n",
       "  \"/>\n",
       "<polyline clip-path=\"url(#clip0902)\" style=\"stroke:#009af9; stroke-width:1; stroke-opacity:1; fill:none\" points=\"\n",
       "  248.92,61.6453 250.127,59.8127 \n",
       "  \"/>\n",
       "<polyline clip-path=\"url(#clip0902)\" style=\"stroke:#009af9; stroke-width:1; stroke-opacity:1; fill:none\" points=\"\n",
       "  250.127,59.8127 251.335,57.972 \n",
       "  \"/>\n",
       "<polyline clip-path=\"url(#clip0902)\" style=\"stroke:#009af9; stroke-width:1; stroke-opacity:1; fill:none\" points=\"\n",
       "  251.335,57.972 252.542,56.1235 \n",
       "  \"/>\n",
       "<polyline clip-path=\"url(#clip0902)\" style=\"stroke:#009af9; stroke-width:1; stroke-opacity:1; fill:none\" points=\"\n",
       "  252.542,56.1235 253.75,54.2674 \n",
       "  \"/>\n",
       "<polyline clip-path=\"url(#clip0902)\" style=\"stroke:#009af9; stroke-width:1; stroke-opacity:1; fill:none\" points=\"\n",
       "  253.75,54.2674 254.957,52.4038 \n",
       "  \"/>\n",
       "<polyline clip-path=\"url(#clip0902)\" style=\"stroke:#009af9; stroke-width:1; stroke-opacity:1; fill:none\" points=\"\n",
       "  254.957,52.4038 256.165,50.5328 \n",
       "  \"/>\n",
       "<polyline clip-path=\"url(#clip0902)\" style=\"stroke:#009af9; stroke-width:1; stroke-opacity:1; fill:none\" points=\"\n",
       "  256.165,50.5328 257.372,48.6546 \n",
       "  \"/>\n",
       "<polyline clip-path=\"url(#clip0902)\" style=\"stroke:#009af9; stroke-width:1; stroke-opacity:1; fill:none\" points=\"\n",
       "  257.372,48.6546 258.58,46.7694 \n",
       "  \"/>\n",
       "<polyline clip-path=\"url(#clip0902)\" style=\"stroke:#009af9; stroke-width:1; stroke-opacity:1; fill:none\" points=\"\n",
       "  258.58,46.7694 259.787,44.8773 \n",
       "  \"/>\n",
       "<polyline clip-path=\"url(#clip0902)\" style=\"stroke:#009af9; stroke-width:1; stroke-opacity:1; fill:none\" points=\"\n",
       "  259.787,44.8773 260.995,42.9786 \n",
       "  \"/>\n",
       "<polyline clip-path=\"url(#clip0902)\" style=\"stroke:#009af9; stroke-width:1; stroke-opacity:1; fill:none\" points=\"\n",
       "  260.995,42.9786 262.202,41.0732 \n",
       "  \"/>\n",
       "<polyline clip-path=\"url(#clip0902)\" style=\"stroke:#009af9; stroke-width:1; stroke-opacity:1; fill:none\" points=\"\n",
       "  262.202,41.0732 263.41,39.1615 \n",
       "  \"/>\n",
       "<polyline clip-path=\"url(#clip0902)\" style=\"stroke:#009af9; stroke-width:1; stroke-opacity:1; fill:none\" points=\"\n",
       "  263.41,39.1615 264.617,37.2435 \n",
       "  \"/>\n",
       "<polyline clip-path=\"url(#clip0902)\" style=\"stroke:#009af9; stroke-width:1; stroke-opacity:1; fill:none\" points=\"\n",
       "  264.617,37.2435 265.825,35.3195 \n",
       "  \"/>\n",
       "<polyline clip-path=\"url(#clip0902)\" style=\"stroke:#009af9; stroke-width:1; stroke-opacity:1; fill:none\" points=\"\n",
       "  265.825,35.3195 267.032,33.3895 \n",
       "  \"/>\n",
       "<polyline clip-path=\"url(#clip0902)\" style=\"stroke:#009af9; stroke-width:1; stroke-opacity:1; fill:none\" points=\"\n",
       "  267.032,33.3895 268.24,31.4537 \n",
       "  \"/>\n",
       "<polyline clip-path=\"url(#clip0902)\" style=\"stroke:#009af9; stroke-width:1; stroke-opacity:1; fill:none\" points=\"\n",
       "  268.24,31.4537 269.447,29.5123 \n",
       "  \"/>\n",
       "<polyline clip-path=\"url(#clip0902)\" style=\"stroke:#009af9; stroke-width:1; stroke-opacity:1; fill:none\" points=\"\n",
       "  269.447,29.5123 270.655,27.5654 \n",
       "  \"/>\n",
       "<polyline clip-path=\"url(#clip0902)\" style=\"stroke:#009af9; stroke-width:1; stroke-opacity:1; fill:none\" points=\"\n",
       "  270.655,27.5654 271.862,25.6132 \n",
       "  \"/>\n",
       "<polyline clip-path=\"url(#clip0902)\" style=\"stroke:#009af9; stroke-width:1; stroke-opacity:1; fill:none\" points=\"\n",
       "  271.862,25.6132 273.07,23.6558 \n",
       "  \"/>\n",
       "<polyline clip-path=\"url(#clip0902)\" style=\"stroke:#009af9; stroke-width:1; stroke-opacity:1; fill:none\" points=\"\n",
       "  273.07,23.6558 274.277,21.6934 \n",
       "  \"/>\n",
       "<polyline clip-path=\"url(#clip0902)\" style=\"stroke:#009af9; stroke-width:1; stroke-opacity:1; fill:none\" points=\"\n",
       "  274.277,21.6934 275.485,19.7261 \n",
       "  \"/>\n",
       "<polyline clip-path=\"url(#clip0902)\" style=\"stroke:#009af9; stroke-width:1; stroke-opacity:1; fill:none\" points=\"\n",
       "  275.485,19.7261 276.692,17.7541 \n",
       "  \"/>\n",
       "<polyline clip-path=\"url(#clip0902)\" style=\"stroke:#009af9; stroke-width:1; stroke-opacity:1; fill:none\" points=\"\n",
       "  276.692,17.7541 277.9,15.7775 \n",
       "  \"/>\n",
       "<polyline clip-path=\"url(#clip0902)\" style=\"stroke:#009af9; stroke-width:1; stroke-opacity:1; fill:none\" points=\"\n",
       "  277.9,15.7775 279.107,13.7964 \n",
       "  \"/>\n",
       "<polyline clip-path=\"url(#clip0902)\" style=\"stroke:#009af9; stroke-width:1; stroke-opacity:1; fill:none\" points=\"\n",
       "  279.107,13.7964 280.315,11.811 \n",
       "  \"/>\n",
       "<polygon clip-path=\"url(#clip0900)\" points=\"\n",
       "228.799,44.931 271.315,44.931 271.315,14.691 228.799,14.691 \n",
       "  \" fill=\"#ffffff\" fill-opacity=\"1\"/>\n",
       "<polyline clip-path=\"url(#clip0900)\" style=\"stroke:#000000; stroke-width:0.5; stroke-opacity:1; fill:none\" points=\"\n",
       "  228.799,44.931 271.315,44.931 271.315,14.691 228.799,14.691 228.799,44.931 \n",
       "  \"/>\n",
       "<polyline clip-path=\"url(#clip0900)\" style=\"stroke:#009af9; stroke-width:1; stroke-opacity:1; fill:none\" points=\"\n",
       "  231.799,29.811 249.799,29.811 \n",
       "  \"/>\n",
       "<g clip-path=\"url(#clip0900)\">\n",
       "<text style=\"fill:#000000; fill-opacity:1; font-family:Arial,Helvetica Neue,Helvetica,sans-serif; font-size:12; text-anchor:start;\" transform=\"rotate(0, 252.799, 34.311)\" x=\"252.799\" y=\"34.311\">y1</text>\n",
       "</g>\n",
       "</svg>\n"
      ]
     },
     "execution_count": 41,
     "metadata": {},
     "output_type": "execute_result"
    }
   ],
   "source": [
    "plot(t_test[:], y_test[1][:])"
   ]
  },
  {
   "cell_type": "code",
   "execution_count": null,
   "metadata": {
    "collapsed": true
   },
   "outputs": [],
   "source": []
  }
 ],
 "metadata": {
  "kernelspec": {
   "display_name": "Julia 0.6.1",
   "language": "julia",
   "name": "julia-0.6"
  },
  "language_info": {
   "file_extension": ".jl",
   "mimetype": "application/julia",
   "name": "julia",
   "version": "0.6.1"
  },
  "toc": {
   "nav_menu": {},
   "number_sections": true,
   "sideBar": true,
   "skip_h1_title": false,
   "toc_cell": false,
   "toc_position": {},
   "toc_section_display": "block",
   "toc_window_display": false
  }
 },
 "nbformat": 4,
 "nbformat_minor": 2
}
