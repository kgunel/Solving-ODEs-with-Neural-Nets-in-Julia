{
 "cells": [
  {
   "cell_type": "code",
   "execution_count": null,
   "metadata": {},
   "outputs": [],
   "source": [
    "using DifferentialEquations\n",
    "using Plots\n",
    "include(\"NN_solver.jl\")"
   ]
  },
  {
   "cell_type": "code",
   "execution_count": null,
   "metadata": {},
   "outputs": [],
   "source": [
    "default(size = (400, 300), linewidth=3, markersize=5, \n",
    "        markerstrokewidth=0)"
   ]
  },
  {
   "cell_type": "code",
   "execution_count": null,
   "metadata": {},
   "outputs": [],
   "source": [
    "function lotka_volterra!(t, u, du)\n",
    "    du[1] = 1.5 .* u[1] - 1.0 .* u[1].*u[2]\n",
    "    du[2] = -3 .* u[2] + u[1].*u[2]\n",
    "end\n",
    "\n",
    "y0_list = [1.0, 1.0]\n",
    "tspan = (0.0,5.0)\n",
    "t = collect(linspace(tspan[1], tspan[2], 51))\n",
    "t = reshape(t, 1, :) # training points"
   ]
  },
  {
   "cell_type": "code",
   "execution_count": null,
   "metadata": {},
   "outputs": [],
   "source": [
    "prob = ODEProblem(lotka_volterra!, y0_list, tspan)\n",
    "sol = solve(prob, saveat=0.05, reltol=1e-6, abstol=1e-6);"
   ]
  },
  {
   "cell_type": "code",
   "execution_count": null,
   "metadata": {},
   "outputs": [],
   "source": [
    "nn = init_nn(lotka_volterra!, t, y0_list, n_hidden = 20);\n",
    "show(nn) # print basic info"
   ]
  },
  {
   "cell_type": "code",
   "execution_count": null,
   "metadata": {},
   "outputs": [],
   "source": [
    "p_BFGS = readdlm(\"weights_BFGS.txt\")\n",
    "p_GD = readdlm(\"weights_GD.txt\")\n",
    "\n",
    "l_BFGS = readdlm(\"loss_BFGS.txt\")\n",
    "l_GD = readdlm(\"loss_GD.txt\")\n",
    "\n",
    "size(p_BFGS), size(l_BFGS)"
   ]
  },
  {
   "cell_type": "code",
   "execution_count": null,
   "metadata": {},
   "outputs": [],
   "source": [
    "function quickplot(t, p)\n",
    "    nn.params_list = get_unflat(p[t,:], nn)\n",
    "    y_pred_list,_ = predict(nn)\n",
    "    y_pred_list, _ = predict(nn)\n",
    "    \n",
    "    plot(nn.t[:], y_pred_list[1][:], label=\"y1 NN\", lw=0, marker=:circle, legend = :topleft)\n",
    "    plot!(nn.t[:], y_pred_list[2][:], label=\"y2 NN\", lw=0, marker=:circle)\n",
    "    \n",
    "    plot!(sol.t, sol[1,:], label=\"y1 true\")\n",
    "    plot!(sol.t, sol[2,:], label=\"y2 true\")\n",
    "\n",
    "\n",
    "    ylims!(0, 8)\n",
    "    xlabel!(\"t\")\n",
    "end"
   ]
  },
  {
   "cell_type": "code",
   "execution_count": null,
   "metadata": {
    "scrolled": true
   },
   "outputs": [],
   "source": [
    "quickplot(350, p_BFGS)\n",
    "title!(@sprintf(\"BFGS; iter=%d; loss=%.2e\",150,l_BFGS[150]))"
   ]
  },
  {
   "cell_type": "markdown",
   "metadata": {},
   "source": [
    "## Time-series"
   ]
  },
  {
   "cell_type": "code",
   "execution_count": null,
   "metadata": {
    "scrolled": true
   },
   "outputs": [],
   "source": [
    "for i=1:1001\n",
    "    if (i%50 == 0) print(i,\" \") end\n",
    "    quickplot(i, p_BFGS)\n",
    "    title!(@sprintf(\"BFGS; iter=%d; loss=%.2e\", i-1, l_BFGS[i]))\n",
    "    savefig(\"./figures/BFGS_\"*lpad(i,3,0)*\".pdf\")\n",
    "end"
   ]
  },
  {
   "cell_type": "code",
   "execution_count": null,
   "metadata": {},
   "outputs": [],
   "source": [
    "for i=1:1001\n",
    "    if (i%50 == 0) print(i,\" \") end\n",
    "    quickplot(i, p_GD)\n",
    "    title!(@sprintf(\"GD; iter=%d; loss=%.2e\", i-1, l_GD[i]))\n",
    "    savefig(\"./figures/GD_\"*lpad(i,3,0)*\".pdf\")\n",
    "end"
   ]
  },
  {
   "cell_type": "code",
   "execution_count": null,
   "metadata": {},
   "outputs": [],
   "source": []
  }
 ],
 "metadata": {
  "kernelspec": {
   "display_name": "Julia 1.0.1",
   "language": "julia",
   "name": "julia-1.0"
  },
  "language_info": {
   "file_extension": ".jl",
   "mimetype": "application/julia",
   "name": "julia",
   "version": "0.6.1"
  },
  "toc": {
   "nav_menu": {},
   "number_sections": true,
   "sideBar": true,
   "skip_h1_title": false,
   "toc_cell": false,
   "toc_position": {},
   "toc_section_display": "block",
   "toc_window_display": false
  }
 },
 "nbformat": 4,
 "nbformat_minor": 2
}
